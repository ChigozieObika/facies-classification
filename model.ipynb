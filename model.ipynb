{
 "cells": [
  {
   "cell_type": "markdown",
   "metadata": {},
   "source": [
    "# Modelling"
   ]
  },
  {
   "cell_type": "markdown",
   "metadata": {},
   "source": [
    "We will experiment with different preprocessing functions and different classifiers to find the best performing model."
   ]
  },
  {
   "cell_type": "code",
   "execution_count": 1,
   "metadata": {},
   "outputs": [],
   "source": [
    "print ('loading libraries...')\n",
    "import os\n",
    "\n",
    "import warnings\n",
    "warnings.filterwarnings('ignore')\n",
    "\n",
    "import pandas as pd\n",
    "import utils\n",
    "import config\n",
    "from sklearn.pipeline import Pipeline\n",
    "from sklearn.preprocessing import MinMaxScaler\n",
    "from sklearn.ensemble import ExtraTreesClassifier\n",
    "from sklearn.metrics import accuracy_score"
   ]
  },
  {
   "cell_type": "code",
   "execution_count": 2,
   "metadata": {},
   "outputs": [
    {
     "data": {
      "text/html": [
       "<div>\n",
       "<style scoped>\n",
       "    .dataframe tbody tr th:only-of-type {\n",
       "        vertical-align: middle;\n",
       "    }\n",
       "\n",
       "    .dataframe tbody tr th {\n",
       "        vertical-align: top;\n",
       "    }\n",
       "\n",
       "    .dataframe thead th {\n",
       "        text-align: right;\n",
       "    }\n",
       "</style>\n",
       "<table border=\"1\" class=\"dataframe\">\n",
       "  <thead>\n",
       "    <tr style=\"text-align: right;\">\n",
       "      <th></th>\n",
       "      <th>Facies</th>\n",
       "      <th>Formation</th>\n",
       "      <th>Well Name</th>\n",
       "      <th>Depth</th>\n",
       "      <th>GR</th>\n",
       "      <th>ILD_log10</th>\n",
       "      <th>DeltaPHI</th>\n",
       "      <th>PHIND</th>\n",
       "      <th>PE</th>\n",
       "      <th>NM_M</th>\n",
       "      <th>RELPOS</th>\n",
       "    </tr>\n",
       "  </thead>\n",
       "  <tbody>\n",
       "    <tr>\n",
       "      <th>0</th>\n",
       "      <td>3</td>\n",
       "      <td>A1 SH</td>\n",
       "      <td>SHRIMPLIN</td>\n",
       "      <td>2793.0</td>\n",
       "      <td>77.450</td>\n",
       "      <td>0.664</td>\n",
       "      <td>9.900</td>\n",
       "      <td>11.915</td>\n",
       "      <td>4.600</td>\n",
       "      <td>1</td>\n",
       "      <td>1.000</td>\n",
       "    </tr>\n",
       "    <tr>\n",
       "      <th>1</th>\n",
       "      <td>3</td>\n",
       "      <td>A1 SH</td>\n",
       "      <td>SHRIMPLIN</td>\n",
       "      <td>2793.5</td>\n",
       "      <td>78.260</td>\n",
       "      <td>0.661</td>\n",
       "      <td>14.200</td>\n",
       "      <td>12.565</td>\n",
       "      <td>4.100</td>\n",
       "      <td>1</td>\n",
       "      <td>0.979</td>\n",
       "    </tr>\n",
       "    <tr>\n",
       "      <th>2</th>\n",
       "      <td>3</td>\n",
       "      <td>A1 SH</td>\n",
       "      <td>SHRIMPLIN</td>\n",
       "      <td>2794.0</td>\n",
       "      <td>79.050</td>\n",
       "      <td>0.658</td>\n",
       "      <td>14.800</td>\n",
       "      <td>13.050</td>\n",
       "      <td>3.600</td>\n",
       "      <td>1</td>\n",
       "      <td>0.957</td>\n",
       "    </tr>\n",
       "    <tr>\n",
       "      <th>3</th>\n",
       "      <td>3</td>\n",
       "      <td>A1 SH</td>\n",
       "      <td>SHRIMPLIN</td>\n",
       "      <td>2794.5</td>\n",
       "      <td>86.100</td>\n",
       "      <td>0.655</td>\n",
       "      <td>13.900</td>\n",
       "      <td>13.115</td>\n",
       "      <td>3.500</td>\n",
       "      <td>1</td>\n",
       "      <td>0.936</td>\n",
       "    </tr>\n",
       "    <tr>\n",
       "      <th>4</th>\n",
       "      <td>3</td>\n",
       "      <td>A1 SH</td>\n",
       "      <td>SHRIMPLIN</td>\n",
       "      <td>2795.0</td>\n",
       "      <td>74.580</td>\n",
       "      <td>0.647</td>\n",
       "      <td>13.500</td>\n",
       "      <td>13.300</td>\n",
       "      <td>3.400</td>\n",
       "      <td>1</td>\n",
       "      <td>0.915</td>\n",
       "    </tr>\n",
       "    <tr>\n",
       "      <th>...</th>\n",
       "      <td>...</td>\n",
       "      <td>...</td>\n",
       "      <td>...</td>\n",
       "      <td>...</td>\n",
       "      <td>...</td>\n",
       "      <td>...</td>\n",
       "      <td>...</td>\n",
       "      <td>...</td>\n",
       "      <td>...</td>\n",
       "      <td>...</td>\n",
       "      <td>...</td>\n",
       "    </tr>\n",
       "    <tr>\n",
       "      <th>3226</th>\n",
       "      <td>5</td>\n",
       "      <td>C LM</td>\n",
       "      <td>CHURCHMAN BIBLE</td>\n",
       "      <td>3120.5</td>\n",
       "      <td>46.719</td>\n",
       "      <td>0.947</td>\n",
       "      <td>1.828</td>\n",
       "      <td>7.254</td>\n",
       "      <td>3.617</td>\n",
       "      <td>2</td>\n",
       "      <td>0.685</td>\n",
       "    </tr>\n",
       "    <tr>\n",
       "      <th>3227</th>\n",
       "      <td>5</td>\n",
       "      <td>C LM</td>\n",
       "      <td>CHURCHMAN BIBLE</td>\n",
       "      <td>3121.0</td>\n",
       "      <td>44.563</td>\n",
       "      <td>0.953</td>\n",
       "      <td>2.241</td>\n",
       "      <td>8.013</td>\n",
       "      <td>3.344</td>\n",
       "      <td>2</td>\n",
       "      <td>0.677</td>\n",
       "    </tr>\n",
       "    <tr>\n",
       "      <th>3228</th>\n",
       "      <td>5</td>\n",
       "      <td>C LM</td>\n",
       "      <td>CHURCHMAN BIBLE</td>\n",
       "      <td>3121.5</td>\n",
       "      <td>49.719</td>\n",
       "      <td>0.964</td>\n",
       "      <td>2.925</td>\n",
       "      <td>8.013</td>\n",
       "      <td>3.190</td>\n",
       "      <td>2</td>\n",
       "      <td>0.669</td>\n",
       "    </tr>\n",
       "    <tr>\n",
       "      <th>3229</th>\n",
       "      <td>5</td>\n",
       "      <td>C LM</td>\n",
       "      <td>CHURCHMAN BIBLE</td>\n",
       "      <td>3122.0</td>\n",
       "      <td>51.469</td>\n",
       "      <td>0.965</td>\n",
       "      <td>3.083</td>\n",
       "      <td>7.708</td>\n",
       "      <td>3.152</td>\n",
       "      <td>2</td>\n",
       "      <td>0.661</td>\n",
       "    </tr>\n",
       "    <tr>\n",
       "      <th>3230</th>\n",
       "      <td>5</td>\n",
       "      <td>C LM</td>\n",
       "      <td>CHURCHMAN BIBLE</td>\n",
       "      <td>3122.5</td>\n",
       "      <td>50.031</td>\n",
       "      <td>0.970</td>\n",
       "      <td>2.609</td>\n",
       "      <td>6.668</td>\n",
       "      <td>3.295</td>\n",
       "      <td>2</td>\n",
       "      <td>0.653</td>\n",
       "    </tr>\n",
       "  </tbody>\n",
       "</table>\n",
       "<p>3231 rows × 11 columns</p>\n",
       "</div>"
      ],
      "text/plain": [
       "      Facies Formation        Well Name   Depth      GR  ILD_log10  DeltaPHI  \\\n",
       "0          3     A1 SH        SHRIMPLIN  2793.0  77.450      0.664     9.900   \n",
       "1          3     A1 SH        SHRIMPLIN  2793.5  78.260      0.661    14.200   \n",
       "2          3     A1 SH        SHRIMPLIN  2794.0  79.050      0.658    14.800   \n",
       "3          3     A1 SH        SHRIMPLIN  2794.5  86.100      0.655    13.900   \n",
       "4          3     A1 SH        SHRIMPLIN  2795.0  74.580      0.647    13.500   \n",
       "...      ...       ...              ...     ...     ...        ...       ...   \n",
       "3226       5      C LM  CHURCHMAN BIBLE  3120.5  46.719      0.947     1.828   \n",
       "3227       5      C LM  CHURCHMAN BIBLE  3121.0  44.563      0.953     2.241   \n",
       "3228       5      C LM  CHURCHMAN BIBLE  3121.5  49.719      0.964     2.925   \n",
       "3229       5      C LM  CHURCHMAN BIBLE  3122.0  51.469      0.965     3.083   \n",
       "3230       5      C LM  CHURCHMAN BIBLE  3122.5  50.031      0.970     2.609   \n",
       "\n",
       "       PHIND     PE  NM_M  RELPOS  \n",
       "0     11.915  4.600     1   1.000  \n",
       "1     12.565  4.100     1   0.979  \n",
       "2     13.050  3.600     1   0.957  \n",
       "3     13.115  3.500     1   0.936  \n",
       "4     13.300  3.400     1   0.915  \n",
       "...      ...    ...   ...     ...  \n",
       "3226   7.254  3.617     2   0.685  \n",
       "3227   8.013  3.344     2   0.677  \n",
       "3228   8.013  3.190     2   0.669  \n",
       "3229   7.708  3.152     2   0.661  \n",
       "3230   6.668  3.295     2   0.653  \n",
       "\n",
       "[3231 rows x 11 columns]"
      ]
     },
     "execution_count": 2,
     "metadata": {},
     "output_type": "execute_result"
    }
   ],
   "source": [
    "#load dataset\n",
    "filename = 'facies_data.csv'\n",
    "data = pd.read_csv(filename)\n",
    "data = data.drop_duplicates().reset_index(drop=True)\n",
    "data"
   ]
  },
  {
   "cell_type": "code",
   "execution_count": 3,
   "metadata": {},
   "outputs": [],
   "source": [
    "test_well_data = data[data['Well Name'] == 'CHURCHMAN BIBLE']"
   ]
  },
  {
   "cell_type": "code",
   "execution_count": 4,
   "metadata": {},
   "outputs": [
    {
     "data": {
      "text/plain": [
       "((2714, 11), (517, 11))"
      ]
     },
     "execution_count": 4,
     "metadata": {},
     "output_type": "execute_result"
    }
   ],
   "source": [
    "train, test = utils.train_test_split_by_well(data, config.TRAIN_SIZE)\n",
    "train.shape, test.shape"
   ]
  },
  {
   "cell_type": "code",
   "execution_count": 5,
   "metadata": {},
   "outputs": [
    {
     "data": {
      "image/png": "[encoded data removed]",
      "text/plain": [
       "<Figure size 504x360 with 1 Axes>"
      ]
     },
     "metadata": {
      "needs_background": "light"
     },
     "output_type": "display_data"
    }
   ],
   "source": [
    "utils.train_test_plot(data, train, test)"
   ]
  },
  {
   "cell_type": "code",
   "execution_count": 6,
   "metadata": {},
   "outputs": [],
   "source": [
    "train = train.drop(['Well Name', 'Formation', 'Depth'], axis =1)\n",
    "test = test.drop(['Well Name', 'Formation', 'Depth'], axis =1)"
   ]
  },
  {
   "cell_type": "code",
   "execution_count": 7,
   "metadata": {},
   "outputs": [
    {
     "data": {
      "text/plain": [
       "((2714, 7), (2714,), (517, 7), (517,))"
      ]
     },
     "execution_count": 7,
     "metadata": {},
     "output_type": "execute_result"
    }
   ],
   "source": [
    "train_X = train.drop('Facies', axis = 1)\n",
    "train_y = train.Facies\n",
    "test_X = test.drop('Facies', axis = 1)\n",
    "test_y = test.Facies\n",
    "train_X.shape, train_y.shape, test_X.shape, test_y.shape"
   ]
  },
  {
   "cell_type": "code",
   "execution_count": 8,
   "metadata": {},
   "outputs": [],
   "source": [
    "def create_pipeline(clf, transformer, train_X, train_y):\n",
    "    pipeline = Pipeline(\n",
    "        [\n",
    "            ('transformer', transformer),\n",
    "            ('clf', clf)\n",
    "        ]\n",
    "    )\n",
    "    pipeline.fit(train_X, train_y)\n",
    "\n",
    "    return pipeline\n",
    "\n",
    "\n",
    "def pipeline_acc_score(pipeline, test_X, test_y):\n",
    "    preds = pipeline.predict(test_X)\n",
    "\n",
    "    acc_score_pipeline = accuracy_score(test_y, preds)\n",
    "\n",
    "    return acc_score_pipeline"
   ]
  },
  {
   "cell_type": "code",
   "execution_count": 9,
   "metadata": {},
   "outputs": [],
   "source": [
    "def evaluate_model(models, preprocessors, train_X, train_y, test_X, test_y):\n",
    "    models_list = []\n",
    "    transformer = []\n",
    "    accuracy = []\n",
    "    for model in models:\n",
    "        for preprocessor in preprocessors:\n",
    "            pipeline = create_pipeline(model, preprocessor, train_X, train_y)\n",
    "            model_acc_score = pipeline_acc_score(pipeline, test_X, test_y)\n",
    "            models_list.append(model)\n",
    "            transformer.append(preprocessor)\n",
    "            accuracy.append(round(model_acc_score, 2))\n",
    "    models_evaluation_list = []\n",
    "    [models_evaluation_list.append([model, preprocessor, accuracy]) \n",
    "    for model, preprocessor, accuracy in zip( models_list, transformer, accuracy)]\n",
    "    # models_evaluation_list = [[models_list, transformer, accuracy]]\n",
    "    models_evaluation_df = pd.DataFrame(\n",
    "        models_evaluation_list, \n",
    "        columns = ['models', 'transformers', 'accuracy']\n",
    "    )\n",
    "    return models_evaluation_df"
   ]
  },
  {
   "cell_type": "code",
   "execution_count": 10,
   "metadata": {},
   "outputs": [
    {
     "name": "stdout",
     "output_type": "stream",
     "text": [
      "[00:03:46] WARNING: ../src/learner.cc:1115: Starting in XGBoost 1.3.0, the default evaluation metric used with the objective 'multi:softprob' was changed from 'merror' to 'mlogloss'. Explicitly set eval_metric if you'd like to restore the old behavior.\n",
      "[00:03:48] WARNING: ../src/learner.cc:1115: Starting in XGBoost 1.3.0, the default evaluation metric used with the objective 'multi:softprob' was changed from 'merror' to 'mlogloss'. Explicitly set eval_metric if you'd like to restore the old behavior.\n",
      "[00:03:49] WARNING: ../src/learner.cc:1115: Starting in XGBoost 1.3.0, the default evaluation metric used with the objective 'multi:softprob' was changed from 'merror' to 'mlogloss'. Explicitly set eval_metric if you'd like to restore the old behavior.\n",
      "[00:03:50] WARNING: ../src/learner.cc:1115: Starting in XGBoost 1.3.0, the default evaluation metric used with the objective 'multi:softprob' was changed from 'merror' to 'mlogloss'. Explicitly set eval_metric if you'd like to restore the old behavior.\n"
     ]
    },
    {
     "data": {
      "text/html": [
       "<div>\n",
       "<style scoped>\n",
       "    .dataframe tbody tr th:only-of-type {\n",
       "        vertical-align: middle;\n",
       "    }\n",
       "\n",
       "    .dataframe tbody tr th {\n",
       "        vertical-align: top;\n",
       "    }\n",
       "\n",
       "    .dataframe thead th {\n",
       "        text-align: right;\n",
       "    }\n",
       "</style>\n",
       "<table border=\"1\" class=\"dataframe\">\n",
       "  <thead>\n",
       "    <tr style=\"text-align: right;\">\n",
       "      <th></th>\n",
       "      <th>models</th>\n",
       "      <th>transformers</th>\n",
       "      <th>accuracy</th>\n",
       "    </tr>\n",
       "  </thead>\n",
       "  <tbody>\n",
       "    <tr>\n",
       "      <th>0</th>\n",
       "      <td>LogisticRegression()</td>\n",
       "      <td>Normalizer()</td>\n",
       "      <td>0.35</td>\n",
       "    </tr>\n",
       "    <tr>\n",
       "      <th>1</th>\n",
       "      <td>LogisticRegression()</td>\n",
       "      <td>MinMaxScaler()</td>\n",
       "      <td>0.37</td>\n",
       "    </tr>\n",
       "    <tr>\n",
       "      <th>2</th>\n",
       "      <td>LogisticRegression()</td>\n",
       "      <td>StandardScaler()</td>\n",
       "      <td>0.50</td>\n",
       "    </tr>\n",
       "    <tr>\n",
       "      <th>3</th>\n",
       "      <td>LogisticRegression()</td>\n",
       "      <td>PowerTransformer()</td>\n",
       "      <td>0.51</td>\n",
       "    </tr>\n",
       "    <tr>\n",
       "      <th>4</th>\n",
       "      <td>(ExtraTreeClassifier(random_state=1453709154),...</td>\n",
       "      <td>Normalizer()</td>\n",
       "      <td>0.53</td>\n",
       "    </tr>\n",
       "    <tr>\n",
       "      <th>5</th>\n",
       "      <td>(ExtraTreeClassifier(random_state=1453709154),...</td>\n",
       "      <td>MinMaxScaler()</td>\n",
       "      <td>0.58</td>\n",
       "    </tr>\n",
       "    <tr>\n",
       "      <th>6</th>\n",
       "      <td>(ExtraTreeClassifier(random_state=1453709154),...</td>\n",
       "      <td>StandardScaler()</td>\n",
       "      <td>0.58</td>\n",
       "    </tr>\n",
       "    <tr>\n",
       "      <th>7</th>\n",
       "      <td>(ExtraTreeClassifier(random_state=1453709154),...</td>\n",
       "      <td>PowerTransformer()</td>\n",
       "      <td>0.58</td>\n",
       "    </tr>\n",
       "    <tr>\n",
       "      <th>8</th>\n",
       "      <td>XGBClassifier(base_score=0.5, booster='gbtree'...</td>\n",
       "      <td>Normalizer()</td>\n",
       "      <td>0.52</td>\n",
       "    </tr>\n",
       "    <tr>\n",
       "      <th>9</th>\n",
       "      <td>XGBClassifier(base_score=0.5, booster='gbtree'...</td>\n",
       "      <td>MinMaxScaler()</td>\n",
       "      <td>0.52</td>\n",
       "    </tr>\n",
       "    <tr>\n",
       "      <th>10</th>\n",
       "      <td>XGBClassifier(base_score=0.5, booster='gbtree'...</td>\n",
       "      <td>StandardScaler()</td>\n",
       "      <td>0.52</td>\n",
       "    </tr>\n",
       "    <tr>\n",
       "      <th>11</th>\n",
       "      <td>XGBClassifier(base_score=0.5, booster='gbtree'...</td>\n",
       "      <td>PowerTransformer()</td>\n",
       "      <td>0.52</td>\n",
       "    </tr>\n",
       "    <tr>\n",
       "      <th>12</th>\n",
       "      <td>DecisionTreeClassifier()</td>\n",
       "      <td>Normalizer()</td>\n",
       "      <td>0.45</td>\n",
       "    </tr>\n",
       "    <tr>\n",
       "      <th>13</th>\n",
       "      <td>DecisionTreeClassifier()</td>\n",
       "      <td>MinMaxScaler()</td>\n",
       "      <td>0.47</td>\n",
       "    </tr>\n",
       "    <tr>\n",
       "      <th>14</th>\n",
       "      <td>DecisionTreeClassifier()</td>\n",
       "      <td>StandardScaler()</td>\n",
       "      <td>0.49</td>\n",
       "    </tr>\n",
       "    <tr>\n",
       "      <th>15</th>\n",
       "      <td>DecisionTreeClassifier()</td>\n",
       "      <td>PowerTransformer()</td>\n",
       "      <td>0.49</td>\n",
       "    </tr>\n",
       "  </tbody>\n",
       "</table>\n",
       "</div>"
      ],
      "text/plain": [
       "                                               models        transformers  \\\n",
       "0                                LogisticRegression()        Normalizer()   \n",
       "1                                LogisticRegression()      MinMaxScaler()   \n",
       "2                                LogisticRegression()    StandardScaler()   \n",
       "3                                LogisticRegression()  PowerTransformer()   \n",
       "4   (ExtraTreeClassifier(random_state=1453709154),...        Normalizer()   \n",
       "5   (ExtraTreeClassifier(random_state=1453709154),...      MinMaxScaler()   \n",
       "6   (ExtraTreeClassifier(random_state=1453709154),...    StandardScaler()   \n",
       "7   (ExtraTreeClassifier(random_state=1453709154),...  PowerTransformer()   \n",
       "8   XGBClassifier(base_score=0.5, booster='gbtree'...        Normalizer()   \n",
       "9   XGBClassifier(base_score=0.5, booster='gbtree'...      MinMaxScaler()   \n",
       "10  XGBClassifier(base_score=0.5, booster='gbtree'...    StandardScaler()   \n",
       "11  XGBClassifier(base_score=0.5, booster='gbtree'...  PowerTransformer()   \n",
       "12                           DecisionTreeClassifier()        Normalizer()   \n",
       "13                           DecisionTreeClassifier()      MinMaxScaler()   \n",
       "14                           DecisionTreeClassifier()    StandardScaler()   \n",
       "15                           DecisionTreeClassifier()  PowerTransformer()   \n",
       "\n",
       "    accuracy  \n",
       "0       0.35  \n",
       "1       0.37  \n",
       "2       0.50  \n",
       "3       0.51  \n",
       "4       0.53  \n",
       "5       0.58  \n",
       "6       0.58  \n",
       "7       0.58  \n",
       "8       0.52  \n",
       "9       0.52  \n",
       "10      0.52  \n",
       "11      0.52  \n",
       "12      0.45  \n",
       "13      0.47  \n",
       "14      0.49  \n",
       "15      0.49  "
      ]
     },
     "execution_count": 10,
     "metadata": {},
     "output_type": "execute_result"
    }
   ],
   "source": [
    "results = evaluate_model(config.MODELS, config.PREPROCESSORS, train_X, train_y, test_X, test_y)\n",
    "results"
   ]
  },
  {
   "cell_type": "code",
   "execution_count": 11,
   "metadata": {},
   "outputs": [
    {
     "name": "stdout",
     "output_type": "stream",
     "text": [
      "Fitting 1 folds for each of 36 candidates, totalling 36 fits\n",
      "\tclf__max_depth: 20\n",
      "\tclf__n_estimators: 20\n"
     ]
    }
   ],
   "source": [
    "# grid search XTC pipeline\n",
    "from sklearn.model_selection import GridSearchCV\n",
    "parameters = {\n",
    "    'clf__n_estimators': [10, 20, 30, 40, 60, 80,],\n",
    "    'clf__max_depth': [15, 20, 25, 30, 40, 50]\n",
    "}\n",
    "\n",
    "cv = [(slice(None), slice(None))]\n",
    "\n",
    "pipeline = Pipeline(\n",
    "        [\n",
    "            ('transformer', MinMaxScaler()),\n",
    "            ('clf', ExtraTreesClassifier())\n",
    "        ]\n",
    "    )\n",
    "\n",
    "gs_xtc = GridSearchCV(pipeline, parameters, cv=cv, verbose=True)\n",
    "\n",
    "gs_xtc.fit(train_X, train_y)\n",
    "\n",
    "gs_xtc_clf_pred = gs_xtc.predict(test_X)\n",
    "\n",
    "best_parameters = gs_xtc.best_estimator_.get_params()\n",
    "for param_name in sorted(parameters.keys()):\n",
    "        print(\"\\t%s: %r\" % (param_name, best_parameters[param_name]))"
   ]
  },
  {
   "cell_type": "code",
   "execution_count": 12,
   "metadata": {},
   "outputs": [
    {
     "data": {
      "text/plain": [
       "ExtraTreesClassifier(random_state=16)"
      ]
     },
     "execution_count": 12,
     "metadata": {},
     "output_type": "execute_result"
    }
   ],
   "source": [
    "model = ExtraTreesClassifier(random_state=16)\n",
    "model.fit(train_X, train_y)"
   ]
  },
  {
   "cell_type": "code",
   "execution_count": 13,
   "metadata": {},
   "outputs": [
    {
     "data": {
      "text/plain": [
       "0.5822050290135397"
      ]
     },
     "execution_count": 13,
     "metadata": {},
     "output_type": "execute_result"
    }
   ],
   "source": [
    "predictions = model.predict(test_X)\n",
    "acc_metrics = accuracy_score(test_y, predictions)\n",
    "acc_metrics"
   ]
  }
 ],
 "metadata": {
  "interpreter": {
   "hash": "b2d59ff6ef58088cea5e021485b976862a2f1d418bb2541dbb58a49bd758529e"
  },
  "kernelspec": {
   "display_name": "Python 3.9.12 ('facies')",
   "language": "python",
   "name": "python3"
  },
  "language_info": {
   "codemirror_mode": {
    "name": "ipython",
    "version": 3
   },
   "file_extension": ".py",
   "mimetype": "text/x-python",
   "name": "python",
   "nbconvert_exporter": "python",
   "pygments_lexer": "ipython3",
   "version": "3.9.12"
  },
  "orig_nbformat": 4
 },
 "nbformat": 4,
 "nbformat_minor": 2
}
