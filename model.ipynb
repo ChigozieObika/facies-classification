{
    "cells": [
        {
            "cell_type": "markdown",
            "metadata": {},
            "source": [
                "# Modelling"
            ]
        },
        {
            "cell_type": "markdown",
            "metadata": {},
            "source": [
                "We will experiment with different preprocessing functions and different classifiers to find the best performing model."
            ]
        },
        {
            "cell_type": "markdown",
            "metadata": {},
            "source": [
                "## 1.0 Loading Libraries"
            ]
        },
        {
            "cell_type": "code",
            "execution_count": 1,
            "metadata": {},
            "outputs": [
                {
                    "name": "stdout",
                    "output_type": "stream",
                    "text": [
                        "loading libraries...\n"
                    ]
                }
            ],
            "source": [
                "print ('loading libraries...')\n",
                "import os\n",
                "\n",
                "import warnings\n",
                "warnings.filterwarnings('ignore')\n",
                "\n",
                "import pandas as pd\n",
                "import numpy as np\n",
                "import matplotlib.pyplot as plt\n",
                "import seaborn as sns\n",
                "import config\n",
                "import utils\n",
                "from sklearn.pipeline import Pipeline\n",
                "from sklearn.preprocessing import MinMaxScaler, StandardScaler, PowerTransformer\n",
                "from sklearn.model_selection import StratifiedKFold\n",
                "from sklearn.model_selection import GridSearchCV\n",
                "from sklearn.dummy import DummyClassifier\n",
                "from sklearn.ensemble import ExtraTreesClassifier\n",
                "from xgboost import XGBClassifier\n",
                "from sklearn.metrics import accuracy_score,  confusion_matrix, classification_report\n",
                "import joblib"
            ]
        },
        {
            "cell_type": "markdown",
            "metadata": {},
            "source": [
                "## 2.0 Prepare the Dataset\n",
                "\n",
                "We need to load the datset and drop the duplicated row. We will select one well from the dataset that we use to test our final model and its plotting function."
            ]
        },
        {
            "cell_type": "code",
            "execution_count": 2,
            "metadata": {},
            "outputs": [
                {
                    "data": {
                        "text/html": [
                            "<div>\n",
                            "<style scoped>\n",
                            "    .dataframe tbody tr th:only-of-type {\n",
                            "        vertical-align: middle;\n",
                            "    }\n",
                            "\n",
                            "    .dataframe tbody tr th {\n",
                            "        vertical-align: top;\n",
                            "    }\n",
                            "\n",
                            "    .dataframe thead th {\n",
                            "        text-align: right;\n",
                            "    }\n",
                            "</style>\n",
                            "<table border=\"1\" class=\"dataframe\">\n",
                            "  <thead>\n",
                            "    <tr style=\"text-align: right;\">\n",
                            "      <th></th>\n",
                            "      <th>Facies</th>\n",
                            "      <th>Formation</th>\n",
                            "      <th>Well Name</th>\n",
                            "      <th>Depth</th>\n",
                            "      <th>GR</th>\n",
                            "      <th>ILD_log10</th>\n",
                            "      <th>DeltaPHI</th>\n",
                            "      <th>PHIND</th>\n",
                            "      <th>PE</th>\n",
                            "      <th>NM_M</th>\n",
                            "      <th>RELPOS</th>\n",
                            "    </tr>\n",
                            "  </thead>\n",
                            "  <tbody>\n",
                            "    <tr>\n",
                            "      <th>0</th>\n",
                            "      <td>3</td>\n",
                            "      <td>A1 SH</td>\n",
                            "      <td>SHRIMPLIN</td>\n",
                            "      <td>2793.0</td>\n",
                            "      <td>77.45</td>\n",
                            "      <td>0.664</td>\n",
                            "      <td>9.9</td>\n",
                            "      <td>11.915</td>\n",
                            "      <td>4.6</td>\n",
                            "      <td>1</td>\n",
                            "      <td>1.000</td>\n",
                            "    </tr>\n",
                            "    <tr>\n",
                            "      <th>1</th>\n",
                            "      <td>3</td>\n",
                            "      <td>A1 SH</td>\n",
                            "      <td>SHRIMPLIN</td>\n",
                            "      <td>2793.5</td>\n",
                            "      <td>78.26</td>\n",
                            "      <td>0.661</td>\n",
                            "      <td>14.2</td>\n",
                            "      <td>12.565</td>\n",
                            "      <td>4.1</td>\n",
                            "      <td>1</td>\n",
                            "      <td>0.979</td>\n",
                            "    </tr>\n",
                            "    <tr>\n",
                            "      <th>2</th>\n",
                            "      <td>3</td>\n",
                            "      <td>A1 SH</td>\n",
                            "      <td>SHRIMPLIN</td>\n",
                            "      <td>2794.0</td>\n",
                            "      <td>79.05</td>\n",
                            "      <td>0.658</td>\n",
                            "      <td>14.8</td>\n",
                            "      <td>13.050</td>\n",
                            "      <td>3.6</td>\n",
                            "      <td>1</td>\n",
                            "      <td>0.957</td>\n",
                            "    </tr>\n",
                            "    <tr>\n",
                            "      <th>3</th>\n",
                            "      <td>3</td>\n",
                            "      <td>A1 SH</td>\n",
                            "      <td>SHRIMPLIN</td>\n",
                            "      <td>2794.5</td>\n",
                            "      <td>86.10</td>\n",
                            "      <td>0.655</td>\n",
                            "      <td>13.9</td>\n",
                            "      <td>13.115</td>\n",
                            "      <td>3.5</td>\n",
                            "      <td>1</td>\n",
                            "      <td>0.936</td>\n",
                            "    </tr>\n",
                            "    <tr>\n",
                            "      <th>4</th>\n",
                            "      <td>3</td>\n",
                            "      <td>A1 SH</td>\n",
                            "      <td>SHRIMPLIN</td>\n",
                            "      <td>2795.0</td>\n",
                            "      <td>74.58</td>\n",
                            "      <td>0.647</td>\n",
                            "      <td>13.5</td>\n",
                            "      <td>13.300</td>\n",
                            "      <td>3.4</td>\n",
                            "      <td>1</td>\n",
                            "      <td>0.915</td>\n",
                            "    </tr>\n",
                            "  </tbody>\n",
                            "</table>\n",
                            "</div>"
                        ],
                        "text/plain": [
                            "   Facies Formation  Well Name   Depth     GR  ILD_log10  DeltaPHI   PHIND  \\\n",
                            "0       3     A1 SH  SHRIMPLIN  2793.0  77.45      0.664       9.9  11.915   \n",
                            "1       3     A1 SH  SHRIMPLIN  2793.5  78.26      0.661      14.2  12.565   \n",
                            "2       3     A1 SH  SHRIMPLIN  2794.0  79.05      0.658      14.8  13.050   \n",
                            "3       3     A1 SH  SHRIMPLIN  2794.5  86.10      0.655      13.9  13.115   \n",
                            "4       3     A1 SH  SHRIMPLIN  2795.0  74.58      0.647      13.5  13.300   \n",
                            "\n",
                            "    PE  NM_M  RELPOS  \n",
                            "0  4.6     1   1.000  \n",
                            "1  4.1     1   0.979  \n",
                            "2  3.6     1   0.957  \n",
                            "3  3.5     1   0.936  \n",
                            "4  3.4     1   0.915  "
                        ]
                    },
                    "execution_count": 2,
                    "metadata": {},
                    "output_type": "execute_result"
                }
            ],
            "source": [
                "#load dataset\n",
                "filename = 'datasets/facies_data.csv'\n",
                "data = pd.read_csv(filename)\n",
                "data = data.drop_duplicates().reset_index(drop=True)\n",
                "data.head()"
            ]
        },
        {
            "cell_type": "code",
            "execution_count": 3,
            "metadata": {},
            "outputs": [],
            "source": [
                "#select one well for testing\n",
                "test_well_data = data[data['Well Name'] == 'CHURCHMAN BIBLE']"
            ]
        },
        {
            "cell_type": "markdown",
            "metadata": {},
            "source": [
                "## 3.0 Model\n",
                "\n",
                "### 3.1 Train Test Split\n",
                "\n",
                "We will apply a custom split to the dataset. This follows the mode the model will be used in the field. Well logs are usually generated for a single well at a time. These logs can be passed into the model to predict the facies classes. The dataset we are working with is relatively small compared to the number of classes in the dataset. As a result we will include the test well in the training but will ensure it is in the test part of the split."
            ]
        },
        {
            "cell_type": "code",
            "execution_count": 4,
            "metadata": {},
            "outputs": [
                {
                    "data": {
                        "text/plain": [
                            "((2714, 11), (517, 11))"
                        ]
                    },
                    "execution_count": 4,
                    "metadata": {},
                    "output_type": "execute_result"
                }
            ],
            "source": [
                "#split dataset by well using custom train test split function\n",
                "train, test = utils.train_test_split_by_well(data, config.TRAIN_SIZE)\n",
                "train.shape, test.shape"
            ]
        },
        {
            "cell_type": "code",
            "execution_count": 5,
            "metadata": {},
            "outputs": [
                {
                    "data": {
                        "image/png": "[encoded data removed]",
                        "text/plain": [
                            "<Figure size 432x288 with 1 Axes>"
                        ]
                    },
                    "metadata": {
                        "needs_background": "light"
                    },
                    "output_type": "display_data"
                }
            ],
            "source": [
                "#visualizing the wells in the train and test splits\n",
                "utils.train_test_plot(data, train, test)"
            ]
        },
        {
            "cell_type": "markdown",
            "metadata": {},
            "source": [
                "We established from our EDA that the categorical features would not be used for model training. These features are dropped from the dataset at this point. Then the input variables are separated from the target variable."
            ]
        },
        {
            "cell_type": "code",
            "execution_count": 6,
            "metadata": {},
            "outputs": [],
            "source": [
                "train = train.drop(['Well Name', 'Formation', 'Depth'], axis =1)\n",
                "test = test.drop(['Well Name', 'Formation', 'Depth'], axis =1)"
            ]
        },
        {
            "cell_type": "code",
            "execution_count": 7,
            "metadata": {},
            "outputs": [
                {
                    "data": {
                        "text/plain": [
                            "((2714, 7), (2714,), (517, 7), (517,))"
                        ]
                    },
                    "execution_count": 7,
                    "metadata": {},
                    "output_type": "execute_result"
                }
            ],
            "source": [
                "train_X = train.drop('Facies', axis = 1)\n",
                "train_y = train.Facies\n",
                "test_X = test.drop('Facies', axis = 1)\n",
                "test_y = test.Facies\n",
                "train_X.shape, train_y.shape, test_X.shape, test_y.shape"
            ]
        },
        {
            "cell_type": "markdown",
            "metadata": {},
            "source": [
                "### 3.2 Experiments\n",
                "\n",
                "The metric for evaluating the models will be the scikit learnn accuracy score.\n",
                "\n",
                "### Dummy Classifier\n",
                "\n",
                "We start off with the modelling experiments with a dummy classifier. The accuracy score for a dummy classifier is 17%. This poor score is not unexpected given the number of classes in the dataset and its size.\n",
                "\n"
            ]
        },
        {
            "cell_type": "code",
            "execution_count": 8,
            "metadata": {},
            "outputs": [
                {
                    "data": {
                        "text/plain": [
                            "0.17"
                        ]
                    },
                    "execution_count": 8,
                    "metadata": {},
                    "output_type": "execute_result"
                }
            ],
            "source": [
                "model = DummyClassifier(random_state=16)\n",
                "model.fit(train_X, train_y)\n",
                "dummy_preds= model.predict(test_X)\n",
                "acc_metrics = accuracy_score(test_y, dummy_preds)\n",
                "round(acc_metrics, 2)"
            ]
        },
        {
            "cell_type": "markdown",
            "metadata": {},
            "source": [
                "### Pipeline\n",
                "\n",
                "Let's use a list of pipelines to find a model that can give a fairly better result. To improve the performance of the models in the pipelines, let's also include a preprocessor step before passing training the models. \n",
                "\n",
                "First, we create the functions for the creating and fitting the pipeline and a function to calculate the accuracy for each pipeline."
            ]
        },
        {
            "cell_type": "code",
            "execution_count": 9,
            "metadata": {},
            "outputs": [],
            "source": [
                "# create and fitting a pipeline \n",
                "def create_pipeline(clf, transformer, train_X, train_y):\n",
                "    pipeline = Pipeline(\n",
                "        [\n",
                "            ('transformer', transformer),\n",
                "            ('clf', clf)\n",
                "        ]\n",
                "    )\n",
                "    pipeline.fit(train_X, train_y)\n",
                "\n",
                "    return pipeline\n",
                "\n",
                "# function to calculate the accuracy score for each pipeline\n",
                "def pipeline_acc_score(pipeline, test_X, test_y):\n",
                "    preds = pipeline.predict(test_X)\n",
                "\n",
                "    acc_score_pipeline = accuracy_score(test_y, preds)\n",
                "\n",
                "    return acc_score_pipeline"
            ]
        },
        {
            "cell_type": "markdown",
            "metadata": {},
            "source": [
                "Putting the two functions together we create a function that will take a list of models and a list of preprocessors as arguments. The pipelines are fitted to the training data and the accuracy is calculated. The function returns a dataframe with the names of the model, the preprocessor and the accuracy score for every model-processor pipeline."
            ]
        },
        {
            "cell_type": "code",
            "execution_count": 10,
            "metadata": {},
            "outputs": [],
            "source": [
                "def evaluate_model(models, preprocessors, train_X, train_y, test_X, test_y):\n",
                "    models_list = []\n",
                "    transformer = []\n",
                "    accuracy = []\n",
                "    for model in models:\n",
                "        for preprocessor in preprocessors:\n",
                "            pipeline = create_pipeline(model, preprocessor, train_X, train_y)\n",
                "            model_acc_score = pipeline_acc_score(pipeline, test_X, test_y)\n",
                "            models_list.append(model)\n",
                "            transformer.append(preprocessor)\n",
                "            accuracy.append(round(model_acc_score, 2))\n",
                "    models_evaluation_list = []\n",
                "    [models_evaluation_list.append([model, preprocessor, accuracy]) \n",
                "    for model, preprocessor, accuracy in zip( models_list, transformer, accuracy)]\n",
                "    # models_evaluation_list = [[models_list, transformer, accuracy]]\n",
                "    models_evaluation_df = pd.DataFrame(\n",
                "        models_evaluation_list, \n",
                "        columns = ['models', 'transformers', 'accuracy']\n",
                "    )\n",
                "    return models_evaluation_df"
            ]
        },
        {
            "cell_type": "code",
            "execution_count": 11,
            "metadata": {},
            "outputs": [
                {
                    "data": {
                        "text/html": [
                            "<div>\n",
                            "<style scoped>\n",
                            "    .dataframe tbody tr th:only-of-type {\n",
                            "        vertical-align: middle;\n",
                            "    }\n",
                            "\n",
                            "    .dataframe tbody tr th {\n",
                            "        vertical-align: top;\n",
                            "    }\n",
                            "\n",
                            "    .dataframe thead th {\n",
                            "        text-align: right;\n",
                            "    }\n",
                            "</style>\n",
                            "<table border=\"1\" class=\"dataframe\">\n",
                            "  <thead>\n",
                            "    <tr style=\"text-align: right;\">\n",
                            "      <th></th>\n",
                            "      <th>models</th>\n",
                            "      <th>transformers</th>\n",
                            "      <th>accuracy</th>\n",
                            "    </tr>\n",
                            "  </thead>\n",
                            "  <tbody>\n",
                            "    <tr>\n",
                            "      <th>0</th>\n",
                            "      <td>LogisticRegression()</td>\n",
                            "      <td>Normalizer()</td>\n",
                            "      <td>0.35</td>\n",
                            "    </tr>\n",
                            "    <tr>\n",
                            "      <th>1</th>\n",
                            "      <td>LogisticRegression()</td>\n",
                            "      <td>MinMaxScaler()</td>\n",
                            "      <td>0.37</td>\n",
                            "    </tr>\n",
                            "    <tr>\n",
                            "      <th>2</th>\n",
                            "      <td>LogisticRegression()</td>\n",
                            "      <td>StandardScaler()</td>\n",
                            "      <td>0.50</td>\n",
                            "    </tr>\n",
                            "    <tr>\n",
                            "      <th>3</th>\n",
                            "      <td>LogisticRegression()</td>\n",
                            "      <td>PowerTransformer()</td>\n",
                            "      <td>0.51</td>\n",
                            "    </tr>\n",
                            "    <tr>\n",
                            "      <th>4</th>\n",
                            "      <td>(ExtraTreeClassifier(random_state=1407403129),...</td>\n",
                            "      <td>Normalizer()</td>\n",
                            "      <td>0.54</td>\n",
                            "    </tr>\n",
                            "    <tr>\n",
                            "      <th>5</th>\n",
                            "      <td>(ExtraTreeClassifier(random_state=1407403129),...</td>\n",
                            "      <td>MinMaxScaler()</td>\n",
                            "      <td>0.56</td>\n",
                            "    </tr>\n",
                            "    <tr>\n",
                            "      <th>6</th>\n",
                            "      <td>(ExtraTreeClassifier(random_state=1407403129),...</td>\n",
                            "      <td>StandardScaler()</td>\n",
                            "      <td>0.57</td>\n",
                            "    </tr>\n",
                            "    <tr>\n",
                            "      <th>7</th>\n",
                            "      <td>(ExtraTreeClassifier(random_state=1407403129),...</td>\n",
                            "      <td>PowerTransformer()</td>\n",
                            "      <td>0.57</td>\n",
                            "    </tr>\n",
                            "    <tr>\n",
                            "      <th>8</th>\n",
                            "      <td>DecisionTreeClassifier()</td>\n",
                            "      <td>Normalizer()</td>\n",
                            "      <td>0.44</td>\n",
                            "    </tr>\n",
                            "    <tr>\n",
                            "      <th>9</th>\n",
                            "      <td>DecisionTreeClassifier()</td>\n",
                            "      <td>MinMaxScaler()</td>\n",
                            "      <td>0.46</td>\n",
                            "    </tr>\n",
                            "    <tr>\n",
                            "      <th>10</th>\n",
                            "      <td>DecisionTreeClassifier()</td>\n",
                            "      <td>StandardScaler()</td>\n",
                            "      <td>0.46</td>\n",
                            "    </tr>\n",
                            "    <tr>\n",
                            "      <th>11</th>\n",
                            "      <td>DecisionTreeClassifier()</td>\n",
                            "      <td>PowerTransformer()</td>\n",
                            "      <td>0.46</td>\n",
                            "    </tr>\n",
                            "  </tbody>\n",
                            "</table>\n",
                            "</div>"
                        ],
                        "text/plain": [
                            "                                               models        transformers  \\\n",
                            "0                                LogisticRegression()        Normalizer()   \n",
                            "1                                LogisticRegression()      MinMaxScaler()   \n",
                            "2                                LogisticRegression()    StandardScaler()   \n",
                            "3                                LogisticRegression()  PowerTransformer()   \n",
                            "4   (ExtraTreeClassifier(random_state=1407403129),...        Normalizer()   \n",
                            "5   (ExtraTreeClassifier(random_state=1407403129),...      MinMaxScaler()   \n",
                            "6   (ExtraTreeClassifier(random_state=1407403129),...    StandardScaler()   \n",
                            "7   (ExtraTreeClassifier(random_state=1407403129),...  PowerTransformer()   \n",
                            "8                            DecisionTreeClassifier()        Normalizer()   \n",
                            "9                            DecisionTreeClassifier()      MinMaxScaler()   \n",
                            "10                           DecisionTreeClassifier()    StandardScaler()   \n",
                            "11                           DecisionTreeClassifier()  PowerTransformer()   \n",
                            "\n",
                            "    accuracy  \n",
                            "0       0.35  \n",
                            "1       0.37  \n",
                            "2       0.50  \n",
                            "3       0.51  \n",
                            "4       0.54  \n",
                            "5       0.56  \n",
                            "6       0.57  \n",
                            "7       0.57  \n",
                            "8       0.44  \n",
                            "9       0.46  \n",
                            "10      0.46  \n",
                            "11      0.46  "
                        ]
                    },
                    "execution_count": 11,
                    "metadata": {},
                    "output_type": "execute_result"
                }
            ],
            "source": [
                "results = evaluate_model(config.MODELS, config.PREPROCESSORS, train_X, train_y, test_X, test_y)\n",
                "results"
            ]
        },
        {
            "cell_type": "markdown",
            "metadata": {},
            "source": [
                "From the results, the ExtraTreeClassifier-PowerTransformer combination has the best accuracy score. We  can then process to use a gridsearchCV to get the best parameter for this model."
            ]
        },
        {
            "cell_type": "markdown",
            "metadata": {},
            "source": [
                "### GridsearchCV\n",
                "\n",
                "After several iterations with and without the preprocessors, it was observed that the best performance is from the default parameters of the model without any preprocessor."
            ]
        },
        {
            "cell_type": "code",
            "execution_count": 12,
            "metadata": {},
            "outputs": [
                {
                    "name": "stdout",
                    "output_type": "stream",
                    "text": [
                        "Fitting 3 folds for each of 36 candidates, totalling 108 fits\n",
                        "0.5143797160970681\n",
                        "\tclf__max_depth: 15\n",
                        "\tclf__n_estimators: 60\n"
                    ]
                }
            ],
            "source": [
                "# grid search XTC pipeline\n",
                "parameters = {\n",
                "    'clf__n_estimators': [10, 20, 30, 40, 60, 80,],\n",
                "    'clf__max_depth': [15, 20, 25, 30, 40, 50]\n",
                "}\n",
                "\n",
                "CV = StratifiedKFold(n_splits=3)\n",
                "\n",
                "pipeline = Pipeline(\n",
                "        [\n",
                "            ('clf', ExtraTreesClassifier(random_state=16))\n",
                "        ]\n",
                "    )\n",
                "\n",
                "gs_xtc = GridSearchCV(pipeline, parameters, cv=CV, verbose=True)\n",
                "\n",
                "gs_xtc.fit(train_X, train_y)\n",
                "\n",
                "gs_xtc_clf_pred = gs_xtc.predict(test_X)\n",
                "print(gs_xtc.best_score_)\n",
                "best_parameters = gs_xtc.best_estimator_.get_params()\n",
                "for param_name in sorted(parameters.keys()):\n",
                "        print(\"\\t%s: %r\" % (param_name, best_parameters[param_name]))"
            ]
        },
        {
            "cell_type": "markdown",
            "metadata": {},
            "source": [
                "We use the ExtraTreeClassifier for the next stage of the modelling experiments. We were able to get a 58% percent model performance using default parameters and without any preprocessor."
            ]
        },
        {
            "cell_type": "code",
            "execution_count": 13,
            "metadata": {},
            "outputs": [
                {
                    "data": {
                        "text/html": [
                            "<style>#sk-container-id-1 {color: black;background-color: white;}#sk-container-id-1 pre{padding: 0;}#sk-container-id-1 div.sk-toggleable {background-color: white;}#sk-container-id-1 label.sk-toggleable__label {cursor: pointer;display: block;width: 100%;margin-bottom: 0;padding: 0.3em;box-sizing: border-box;text-align: center;}#sk-container-id-1 label.sk-toggleable__label-arrow:before {content: \"▸\";float: left;margin-right: 0.25em;color: #696969;}#sk-container-id-1 label.sk-toggleable__label-arrow:hover:before {color: black;}#sk-container-id-1 div.sk-estimator:hover label.sk-toggleable__label-arrow:before {color: black;}#sk-container-id-1 div.sk-toggleable__content {max-height: 0;max-width: 0;overflow: hidden;text-align: left;background-color: #f0f8ff;}#sk-container-id-1 div.sk-toggleable__content pre {margin: 0.2em;color: black;border-radius: 0.25em;background-color: #f0f8ff;}#sk-container-id-1 input.sk-toggleable__control:checked~div.sk-toggleable__content {max-height: 200px;max-width: 100%;overflow: auto;}#sk-container-id-1 input.sk-toggleable__control:checked~label.sk-toggleable__label-arrow:before {content: \"▾\";}#sk-container-id-1 div.sk-estimator input.sk-toggleable__control:checked~label.sk-toggleable__label {background-color: #d4ebff;}#sk-container-id-1 div.sk-label input.sk-toggleable__control:checked~label.sk-toggleable__label {background-color: #d4ebff;}#sk-container-id-1 input.sk-hidden--visually {border: 0;clip: rect(1px 1px 1px 1px);clip: rect(1px, 1px, 1px, 1px);height: 1px;margin: -1px;overflow: hidden;padding: 0;position: absolute;width: 1px;}#sk-container-id-1 div.sk-estimator {font-family: monospace;background-color: #f0f8ff;border: 1px dotted black;border-radius: 0.25em;box-sizing: border-box;margin-bottom: 0.5em;}#sk-container-id-1 div.sk-estimator:hover {background-color: #d4ebff;}#sk-container-id-1 div.sk-parallel-item::after {content: \"\";width: 100%;border-bottom: 1px solid gray;flex-grow: 1;}#sk-container-id-1 div.sk-label:hover label.sk-toggleable__label {background-color: #d4ebff;}#sk-container-id-1 div.sk-serial::before {content: \"\";position: absolute;border-left: 1px solid gray;box-sizing: border-box;top: 0;bottom: 0;left: 50%;z-index: 0;}#sk-container-id-1 div.sk-serial {display: flex;flex-direction: column;align-items: center;background-color: white;padding-right: 0.2em;padding-left: 0.2em;position: relative;}#sk-container-id-1 div.sk-item {position: relative;z-index: 1;}#sk-container-id-1 div.sk-parallel {display: flex;align-items: stretch;justify-content: center;background-color: white;position: relative;}#sk-container-id-1 div.sk-item::before, #sk-container-id-1 div.sk-parallel-item::before {content: \"\";position: absolute;border-left: 1px solid gray;box-sizing: border-box;top: 0;bottom: 0;left: 50%;z-index: -1;}#sk-container-id-1 div.sk-parallel-item {display: flex;flex-direction: column;z-index: 1;position: relative;background-color: white;}#sk-container-id-1 div.sk-parallel-item:first-child::after {align-self: flex-end;width: 50%;}#sk-container-id-1 div.sk-parallel-item:last-child::after {align-self: flex-start;width: 50%;}#sk-container-id-1 div.sk-parallel-item:only-child::after {width: 0;}#sk-container-id-1 div.sk-dashed-wrapped {border: 1px dashed gray;margin: 0 0.4em 0.5em 0.4em;box-sizing: border-box;padding-bottom: 0.4em;background-color: white;}#sk-container-id-1 div.sk-label label {font-family: monospace;font-weight: bold;display: inline-block;line-height: 1.2em;}#sk-container-id-1 div.sk-label-container {text-align: center;}#sk-container-id-1 div.sk-container {/* jupyter's `normalize.less` sets `[hidden] { display: none; }` but bootstrap.min.css set `[hidden] { display: none !important; }` so we also need the `!important` here to be able to override the default hidden behavior on the sphinx rendered scikit-learn.org. See: https://github.com/scikit-learn/scikit-learn/issues/21755 */display: inline-block !important;position: relative;}#sk-container-id-1 div.sk-text-repr-fallback {display: none;}</style><div id=\"sk-container-id-1\" class=\"sk-top-container\"><div class=\"sk-text-repr-fallback\"><pre>ExtraTreesClassifier(random_state=16)</pre><b>In a Jupyter environment, please rerun this cell to show the HTML representation or trust the notebook. <br />On GitHub, the HTML representation is unable to render, please try loading this page with nbviewer.org.</b></div><div class=\"sk-container\" hidden><div class=\"sk-item\"><div class=\"sk-estimator sk-toggleable\"><input class=\"sk-toggleable__control sk-hidden--visually\" id=\"sk-estimator-id-1\" type=\"checkbox\" checked><label for=\"sk-estimator-id-1\" class=\"sk-toggleable__label sk-toggleable__label-arrow\">ExtraTreesClassifier</label><div class=\"sk-toggleable__content\"><pre>ExtraTreesClassifier(random_state=16)</pre></div></div></div></div></div>"
                        ],
                        "text/plain": [
                            "ExtraTreesClassifier(random_state=16)"
                        ]
                    },
                    "execution_count": 13,
                    "metadata": {},
                    "output_type": "execute_result"
                }
            ],
            "source": [
                "model = ExtraTreesClassifier(random_state=16)\n",
                "model.fit(train_X, train_y)"
            ]
        },
        {
            "cell_type": "code",
            "execution_count": 14,
            "metadata": {},
            "outputs": [
                {
                    "data": {
                        "text/plain": [
                            "0.58"
                        ]
                    },
                    "execution_count": 14,
                    "metadata": {},
                    "output_type": "execute_result"
                }
            ],
            "source": [
                "predictions_standardscaled = model.predict(test_X)\n",
                "acc_metrics = accuracy_score(test_y, predictions_standardscaled)\n",
                "round(acc_metrics, 2)"
            ]
        },
        {
            "cell_type": "markdown",
            "metadata": {},
            "source": [
                "Before going on, let's use the unskewed function to reduce the skewdness of the data and observe if there will be any improvement in the 58% model performance achieved with the ExtraTreeClassifier."
            ]
        },
        {
            "cell_type": "code",
            "execution_count": 15,
            "metadata": {},
            "outputs": [],
            "source": [
                "#unskew the data\n",
                "data_unskewed = utils.unskew(data)"
            ]
        },
        {
            "cell_type": "code",
            "execution_count": 16,
            "metadata": {},
            "outputs": [
                {
                    "data": {
                        "text/plain": [
                            "((2714, 11), (517, 11))"
                        ]
                    },
                    "execution_count": 16,
                    "metadata": {},
                    "output_type": "execute_result"
                }
            ],
            "source": [
                "train_unskewed, test_unskewed = utils.train_test_split_by_well(data_unskewed, config.TRAIN_SIZE)\n",
                "train_unskewed.shape, test_unskewed.shape"
            ]
        },
        {
            "cell_type": "code",
            "execution_count": 17,
            "metadata": {},
            "outputs": [],
            "source": [
                "train_unskewed = train_unskewed.drop(['Well Name', 'Formation', 'Depth'], axis =1)\n",
                "test_unskewed = test_unskewed.drop(['Well Name', 'Formation', 'Depth'], axis =1)"
            ]
        },
        {
            "cell_type": "code",
            "execution_count": 18,
            "metadata": {},
            "outputs": [
                {
                    "data": {
                        "text/plain": [
                            "((2714, 7), (2714,), (517, 7), (517,))"
                        ]
                    },
                    "execution_count": 18,
                    "metadata": {},
                    "output_type": "execute_result"
                }
            ],
            "source": [
                "train_X_unskewed = train_unskewed.drop('Facies', axis = 1)\n",
                "train_y_unskewed = train_unskewed.Facies\n",
                "test_X_unskewed = test_unskewed.drop('Facies', axis = 1)\n",
                "test_y_unskewed = test_unskewed.Facies\n",
                "train_X_unskewed.shape, train_y_unskewed.shape, test_X_unskewed.shape, test_y_unskewed.shape"
            ]
        },
        {
            "cell_type": "code",
            "execution_count": 19,
            "metadata": {},
            "outputs": [
                {
                    "data": {
                        "text/html": [
                            "<style>#sk-container-id-2 {color: black;background-color: white;}#sk-container-id-2 pre{padding: 0;}#sk-container-id-2 div.sk-toggleable {background-color: white;}#sk-container-id-2 label.sk-toggleable__label {cursor: pointer;display: block;width: 100%;margin-bottom: 0;padding: 0.3em;box-sizing: border-box;text-align: center;}#sk-container-id-2 label.sk-toggleable__label-arrow:before {content: \"▸\";float: left;margin-right: 0.25em;color: #696969;}#sk-container-id-2 label.sk-toggleable__label-arrow:hover:before {color: black;}#sk-container-id-2 div.sk-estimator:hover label.sk-toggleable__label-arrow:before {color: black;}#sk-container-id-2 div.sk-toggleable__content {max-height: 0;max-width: 0;overflow: hidden;text-align: left;background-color: #f0f8ff;}#sk-container-id-2 div.sk-toggleable__content pre {margin: 0.2em;color: black;border-radius: 0.25em;background-color: #f0f8ff;}#sk-container-id-2 input.sk-toggleable__control:checked~div.sk-toggleable__content {max-height: 200px;max-width: 100%;overflow: auto;}#sk-container-id-2 input.sk-toggleable__control:checked~label.sk-toggleable__label-arrow:before {content: \"▾\";}#sk-container-id-2 div.sk-estimator input.sk-toggleable__control:checked~label.sk-toggleable__label {background-color: #d4ebff;}#sk-container-id-2 div.sk-label input.sk-toggleable__control:checked~label.sk-toggleable__label {background-color: #d4ebff;}#sk-container-id-2 input.sk-hidden--visually {border: 0;clip: rect(1px 1px 1px 1px);clip: rect(1px, 1px, 1px, 1px);height: 1px;margin: -1px;overflow: hidden;padding: 0;position: absolute;width: 1px;}#sk-container-id-2 div.sk-estimator {font-family: monospace;background-color: #f0f8ff;border: 1px dotted black;border-radius: 0.25em;box-sizing: border-box;margin-bottom: 0.5em;}#sk-container-id-2 div.sk-estimator:hover {background-color: #d4ebff;}#sk-container-id-2 div.sk-parallel-item::after {content: \"\";width: 100%;border-bottom: 1px solid gray;flex-grow: 1;}#sk-container-id-2 div.sk-label:hover label.sk-toggleable__label {background-color: #d4ebff;}#sk-container-id-2 div.sk-serial::before {content: \"\";position: absolute;border-left: 1px solid gray;box-sizing: border-box;top: 0;bottom: 0;left: 50%;z-index: 0;}#sk-container-id-2 div.sk-serial {display: flex;flex-direction: column;align-items: center;background-color: white;padding-right: 0.2em;padding-left: 0.2em;position: relative;}#sk-container-id-2 div.sk-item {position: relative;z-index: 1;}#sk-container-id-2 div.sk-parallel {display: flex;align-items: stretch;justify-content: center;background-color: white;position: relative;}#sk-container-id-2 div.sk-item::before, #sk-container-id-2 div.sk-parallel-item::before {content: \"\";position: absolute;border-left: 1px solid gray;box-sizing: border-box;top: 0;bottom: 0;left: 50%;z-index: -1;}#sk-container-id-2 div.sk-parallel-item {display: flex;flex-direction: column;z-index: 1;position: relative;background-color: white;}#sk-container-id-2 div.sk-parallel-item:first-child::after {align-self: flex-end;width: 50%;}#sk-container-id-2 div.sk-parallel-item:last-child::after {align-self: flex-start;width: 50%;}#sk-container-id-2 div.sk-parallel-item:only-child::after {width: 0;}#sk-container-id-2 div.sk-dashed-wrapped {border: 1px dashed gray;margin: 0 0.4em 0.5em 0.4em;box-sizing: border-box;padding-bottom: 0.4em;background-color: white;}#sk-container-id-2 div.sk-label label {font-family: monospace;font-weight: bold;display: inline-block;line-height: 1.2em;}#sk-container-id-2 div.sk-label-container {text-align: center;}#sk-container-id-2 div.sk-container {/* jupyter's `normalize.less` sets `[hidden] { display: none; }` but bootstrap.min.css set `[hidden] { display: none !important; }` so we also need the `!important` here to be able to override the default hidden behavior on the sphinx rendered scikit-learn.org. See: https://github.com/scikit-learn/scikit-learn/issues/21755 */display: inline-block !important;position: relative;}#sk-container-id-2 div.sk-text-repr-fallback {display: none;}</style><div id=\"sk-container-id-2\" class=\"sk-top-container\"><div class=\"sk-text-repr-fallback\"><pre>ExtraTreesClassifier(random_state=25)</pre><b>In a Jupyter environment, please rerun this cell to show the HTML representation or trust the notebook. <br />On GitHub, the HTML representation is unable to render, please try loading this page with nbviewer.org.</b></div><div class=\"sk-container\" hidden><div class=\"sk-item\"><div class=\"sk-estimator sk-toggleable\"><input class=\"sk-toggleable__control sk-hidden--visually\" id=\"sk-estimator-id-2\" type=\"checkbox\" checked><label for=\"sk-estimator-id-2\" class=\"sk-toggleable__label sk-toggleable__label-arrow\">ExtraTreesClassifier</label><div class=\"sk-toggleable__content\"><pre>ExtraTreesClassifier(random_state=25)</pre></div></div></div></div></div>"
                        ],
                        "text/plain": [
                            "ExtraTreesClassifier(random_state=25)"
                        ]
                    },
                    "execution_count": 19,
                    "metadata": {},
                    "output_type": "execute_result"
                }
            ],
            "source": [
                "model_unskewed = ExtraTreesClassifier(random_state=25)\n",
                "model_unskewed.fit(train_X_unskewed, train_y_unskewed)"
            ]
        },
        {
            "cell_type": "code",
            "execution_count": 20,
            "metadata": {},
            "outputs": [
                {
                    "data": {
                        "text/plain": [
                            "0.5764023210831721"
                        ]
                    },
                    "execution_count": 20,
                    "metadata": {},
                    "output_type": "execute_result"
                }
            ],
            "source": [
                "predictions_unskewed = model_unskewed.predict(test_X_unskewed)\n",
                "acc_metrics_unskewed = accuracy_score(test_y_unskewed, predictions_unskewed)\n",
                "acc_metrics_unskewed"
            ]
        },
        {
            "cell_type": "markdown",
            "metadata": {},
            "source": [
                "The result is close to the 58% earlier achieved. With this result let us try the pipeline list experiment to find if another model can perform better."
            ]
        },
        {
            "cell_type": "code",
            "execution_count": 40,
            "metadata": {},
            "outputs": [
                {
                    "data": {
                        "text/html": [
                            "<div>\n",
                            "<style scoped>\n",
                            "    .dataframe tbody tr th:only-of-type {\n",
                            "        vertical-align: middle;\n",
                            "    }\n",
                            "\n",
                            "    .dataframe tbody tr th {\n",
                            "        vertical-align: top;\n",
                            "    }\n",
                            "\n",
                            "    .dataframe thead th {\n",
                            "        text-align: right;\n",
                            "    }\n",
                            "</style>\n",
                            "<table border=\"1\" class=\"dataframe\">\n",
                            "  <thead>\n",
                            "    <tr style=\"text-align: right;\">\n",
                            "      <th></th>\n",
                            "      <th>models</th>\n",
                            "      <th>transformers</th>\n",
                            "      <th>accuracy</th>\n",
                            "    </tr>\n",
                            "  </thead>\n",
                            "  <tbody>\n",
                            "    <tr>\n",
                            "      <th>0</th>\n",
                            "      <td>LogisticRegression()</td>\n",
                            "      <td>Normalizer()</td>\n",
                            "      <td>0.33</td>\n",
                            "    </tr>\n",
                            "    <tr>\n",
                            "      <th>1</th>\n",
                            "      <td>LogisticRegression()</td>\n",
                            "      <td>MinMaxScaler()</td>\n",
                            "      <td>0.40</td>\n",
                            "    </tr>\n",
                            "    <tr>\n",
                            "      <th>2</th>\n",
                            "      <td>LogisticRegression()</td>\n",
                            "      <td>StandardScaler()</td>\n",
                            "      <td>0.51</td>\n",
                            "    </tr>\n",
                            "    <tr>\n",
                            "      <th>3</th>\n",
                            "      <td>LogisticRegression()</td>\n",
                            "      <td>PowerTransformer()</td>\n",
                            "      <td>0.51</td>\n",
                            "    </tr>\n",
                            "    <tr>\n",
                            "      <th>4</th>\n",
                            "      <td>(ExtraTreeClassifier(random_state=913520753), ...</td>\n",
                            "      <td>Normalizer()</td>\n",
                            "      <td>0.55</td>\n",
                            "    </tr>\n",
                            "    <tr>\n",
                            "      <th>5</th>\n",
                            "      <td>(ExtraTreeClassifier(random_state=913520753), ...</td>\n",
                            "      <td>MinMaxScaler()</td>\n",
                            "      <td>0.58</td>\n",
                            "    </tr>\n",
                            "    <tr>\n",
                            "      <th>6</th>\n",
                            "      <td>(ExtraTreeClassifier(random_state=913520753), ...</td>\n",
                            "      <td>StandardScaler()</td>\n",
                            "      <td>0.57</td>\n",
                            "    </tr>\n",
                            "    <tr>\n",
                            "      <th>7</th>\n",
                            "      <td>(ExtraTreeClassifier(random_state=913520753), ...</td>\n",
                            "      <td>PowerTransformer()</td>\n",
                            "      <td>0.58</td>\n",
                            "    </tr>\n",
                            "    <tr>\n",
                            "      <th>8</th>\n",
                            "      <td>DecisionTreeClassifier()</td>\n",
                            "      <td>Normalizer()</td>\n",
                            "      <td>0.46</td>\n",
                            "    </tr>\n",
                            "    <tr>\n",
                            "      <th>9</th>\n",
                            "      <td>DecisionTreeClassifier()</td>\n",
                            "      <td>MinMaxScaler()</td>\n",
                            "      <td>0.48</td>\n",
                            "    </tr>\n",
                            "    <tr>\n",
                            "      <th>10</th>\n",
                            "      <td>DecisionTreeClassifier()</td>\n",
                            "      <td>StandardScaler()</td>\n",
                            "      <td>0.46</td>\n",
                            "    </tr>\n",
                            "    <tr>\n",
                            "      <th>11</th>\n",
                            "      <td>DecisionTreeClassifier()</td>\n",
                            "      <td>PowerTransformer()</td>\n",
                            "      <td>0.46</td>\n",
                            "    </tr>\n",
                            "  </tbody>\n",
                            "</table>\n",
                            "</div>"
                        ],
                        "text/plain": [
                            "                                               models        transformers  \\\n",
                            "0                                LogisticRegression()        Normalizer()   \n",
                            "1                                LogisticRegression()      MinMaxScaler()   \n",
                            "2                                LogisticRegression()    StandardScaler()   \n",
                            "3                                LogisticRegression()  PowerTransformer()   \n",
                            "4   (ExtraTreeClassifier(random_state=913520753), ...        Normalizer()   \n",
                            "5   (ExtraTreeClassifier(random_state=913520753), ...      MinMaxScaler()   \n",
                            "6   (ExtraTreeClassifier(random_state=913520753), ...    StandardScaler()   \n",
                            "7   (ExtraTreeClassifier(random_state=913520753), ...  PowerTransformer()   \n",
                            "8                            DecisionTreeClassifier()        Normalizer()   \n",
                            "9                            DecisionTreeClassifier()      MinMaxScaler()   \n",
                            "10                           DecisionTreeClassifier()    StandardScaler()   \n",
                            "11                           DecisionTreeClassifier()  PowerTransformer()   \n",
                            "\n",
                            "    accuracy  \n",
                            "0       0.33  \n",
                            "1       0.40  \n",
                            "2       0.51  \n",
                            "3       0.51  \n",
                            "4       0.55  \n",
                            "5       0.58  \n",
                            "6       0.57  \n",
                            "7       0.58  \n",
                            "8       0.46  \n",
                            "9       0.48  \n",
                            "10      0.46  \n",
                            "11      0.46  "
                        ]
                    },
                    "execution_count": 40,
                    "metadata": {},
                    "output_type": "execute_result"
                }
            ],
            "source": [
                "results_unskewed = evaluate_model(config.MODELS, config.PREPROCESSORS, train_X_unskewed, train_y_unskewed, test_X_unskewed, test_y_unskewed)\n",
                "results_unskewed"
            ]
        },
        {
            "cell_type": "markdown",
            "metadata": {},
            "source": [
                "There was no other model that outperformed the earlier result.\n",
                "\n",
                "Let's apply the StandardScaler preprocessor to the unskewed dataset using the ExtraTreeClassifier algorithm to establish if we can achieve a bump in the model performance using this approach."
            ]
        },
        {
            "cell_type": "code",
            "execution_count": 22,
            "metadata": {},
            "outputs": [
                {
                    "data": {
                        "text/html": [
                            "<style>#sk-container-id-3 {color: black;background-color: white;}#sk-container-id-3 pre{padding: 0;}#sk-container-id-3 div.sk-toggleable {background-color: white;}#sk-container-id-3 label.sk-toggleable__label {cursor: pointer;display: block;width: 100%;margin-bottom: 0;padding: 0.3em;box-sizing: border-box;text-align: center;}#sk-container-id-3 label.sk-toggleable__label-arrow:before {content: \"▸\";float: left;margin-right: 0.25em;color: #696969;}#sk-container-id-3 label.sk-toggleable__label-arrow:hover:before {color: black;}#sk-container-id-3 div.sk-estimator:hover label.sk-toggleable__label-arrow:before {color: black;}#sk-container-id-3 div.sk-toggleable__content {max-height: 0;max-width: 0;overflow: hidden;text-align: left;background-color: #f0f8ff;}#sk-container-id-3 div.sk-toggleable__content pre {margin: 0.2em;color: black;border-radius: 0.25em;background-color: #f0f8ff;}#sk-container-id-3 input.sk-toggleable__control:checked~div.sk-toggleable__content {max-height: 200px;max-width: 100%;overflow: auto;}#sk-container-id-3 input.sk-toggleable__control:checked~label.sk-toggleable__label-arrow:before {content: \"▾\";}#sk-container-id-3 div.sk-estimator input.sk-toggleable__control:checked~label.sk-toggleable__label {background-color: #d4ebff;}#sk-container-id-3 div.sk-label input.sk-toggleable__control:checked~label.sk-toggleable__label {background-color: #d4ebff;}#sk-container-id-3 input.sk-hidden--visually {border: 0;clip: rect(1px 1px 1px 1px);clip: rect(1px, 1px, 1px, 1px);height: 1px;margin: -1px;overflow: hidden;padding: 0;position: absolute;width: 1px;}#sk-container-id-3 div.sk-estimator {font-family: monospace;background-color: #f0f8ff;border: 1px dotted black;border-radius: 0.25em;box-sizing: border-box;margin-bottom: 0.5em;}#sk-container-id-3 div.sk-estimator:hover {background-color: #d4ebff;}#sk-container-id-3 div.sk-parallel-item::after {content: \"\";width: 100%;border-bottom: 1px solid gray;flex-grow: 1;}#sk-container-id-3 div.sk-label:hover label.sk-toggleable__label {background-color: #d4ebff;}#sk-container-id-3 div.sk-serial::before {content: \"\";position: absolute;border-left: 1px solid gray;box-sizing: border-box;top: 0;bottom: 0;left: 50%;z-index: 0;}#sk-container-id-3 div.sk-serial {display: flex;flex-direction: column;align-items: center;background-color: white;padding-right: 0.2em;padding-left: 0.2em;position: relative;}#sk-container-id-3 div.sk-item {position: relative;z-index: 1;}#sk-container-id-3 div.sk-parallel {display: flex;align-items: stretch;justify-content: center;background-color: white;position: relative;}#sk-container-id-3 div.sk-item::before, #sk-container-id-3 div.sk-parallel-item::before {content: \"\";position: absolute;border-left: 1px solid gray;box-sizing: border-box;top: 0;bottom: 0;left: 50%;z-index: -1;}#sk-container-id-3 div.sk-parallel-item {display: flex;flex-direction: column;z-index: 1;position: relative;background-color: white;}#sk-container-id-3 div.sk-parallel-item:first-child::after {align-self: flex-end;width: 50%;}#sk-container-id-3 div.sk-parallel-item:last-child::after {align-self: flex-start;width: 50%;}#sk-container-id-3 div.sk-parallel-item:only-child::after {width: 0;}#sk-container-id-3 div.sk-dashed-wrapped {border: 1px dashed gray;margin: 0 0.4em 0.5em 0.4em;box-sizing: border-box;padding-bottom: 0.4em;background-color: white;}#sk-container-id-3 div.sk-label label {font-family: monospace;font-weight: bold;display: inline-block;line-height: 1.2em;}#sk-container-id-3 div.sk-label-container {text-align: center;}#sk-container-id-3 div.sk-container {/* jupyter's `normalize.less` sets `[hidden] { display: none; }` but bootstrap.min.css set `[hidden] { display: none !important; }` so we also need the `!important` here to be able to override the default hidden behavior on the sphinx rendered scikit-learn.org. See: https://github.com/scikit-learn/scikit-learn/issues/21755 */display: inline-block !important;position: relative;}#sk-container-id-3 div.sk-text-repr-fallback {display: none;}</style><div id=\"sk-container-id-3\" class=\"sk-top-container\"><div class=\"sk-text-repr-fallback\"><pre>ExtraTreesClassifier(random_state=16)</pre><b>In a Jupyter environment, please rerun this cell to show the HTML representation or trust the notebook. <br />On GitHub, the HTML representation is unable to render, please try loading this page with nbviewer.org.</b></div><div class=\"sk-container\" hidden><div class=\"sk-item\"><div class=\"sk-estimator sk-toggleable\"><input class=\"sk-toggleable__control sk-hidden--visually\" id=\"sk-estimator-id-3\" type=\"checkbox\" checked><label for=\"sk-estimator-id-3\" class=\"sk-toggleable__label sk-toggleable__label-arrow\">ExtraTreesClassifier</label><div class=\"sk-toggleable__content\"><pre>ExtraTreesClassifier(random_state=16)</pre></div></div></div></div></div>"
                        ],
                        "text/plain": [
                            "ExtraTreesClassifier(random_state=16)"
                        ]
                    },
                    "execution_count": 22,
                    "metadata": {},
                    "output_type": "execute_result"
                }
            ],
            "source": [
                "scaled_train_X = StandardScaler().fit_transform(train_X_unskewed)\n",
                "model_unskewed = ExtraTreesClassifier(random_state=1719673464)\n",
                "model.fit(scaled_train_X, train_y_unskewed)"
            ]
        },
        {
            "cell_type": "code",
            "execution_count": 23,
            "metadata": {},
            "outputs": [
                {
                    "data": {
                        "text/plain": [
                            "0.5009671179883946"
                        ]
                    },
                    "execution_count": 23,
                    "metadata": {},
                    "output_type": "execute_result"
                }
            ],
            "source": [
                "scaled_test_X = StandardScaler().fit_transform(test_X_unskewed)\n",
                "predictions_stan_unskewed = model.predict(scaled_test_X)\n",
                "acc_metrics_stan_unskewed = accuracy_score(test_y_unskewed, predictions_stan_unskewed)\n",
                "acc_metrics_stan_unskewed"
            ]
        },
        {
            "cell_type": "markdown",
            "metadata": {},
            "source": [
                "Without an improvement in the model performance with the preprocessors, we can drop the idea of using preprocessors to improve modell performance."
            ]
        },
        {
            "cell_type": "markdown",
            "metadata": {},
            "source": [
                "## 4.0 Save Model\n",
                "\n",
                "We use the ExtraTreeClassifier to train a model and saved it as a joblib file. "
            ]
        },
        {
            "cell_type": "code",
            "execution_count": 24,
            "metadata": {},
            "outputs": [
                {
                    "data": {
                        "text/plain": [
                            "((2714, 11), (517, 11))"
                        ]
                    },
                    "execution_count": 24,
                    "metadata": {},
                    "output_type": "execute_result"
                }
            ],
            "source": [
                "#first is to split the data into train and test\n",
                "model_train, model_test = utils.train_test_split_by_well(data, config.TRAIN_SIZE)\n",
                "model_train.shape, model_test.shape"
            ]
        },
        {
            "cell_type": "code",
            "execution_count": 25,
            "metadata": {},
            "outputs": [
                {
                    "data": {
                        "text/plain": [
                            "((2714, 10), (2714,), (517, 10), (517,))"
                        ]
                    },
                    "execution_count": 25,
                    "metadata": {},
                    "output_type": "execute_result"
                }
            ],
            "source": [
                "#separate the input variables from the target label in the train and test sets\n",
                "model_train_X = model_train.drop('Facies', axis = 1)\n",
                "model_train_y = model_train.Facies\n",
                "model_test_X = model_test.drop('Facies', axis = 1)\n",
                "model_test_y = model_test.Facies\n",
                "model_train_X.shape, model_train_y.shape, model_test_X.shape, model_test_y.shape"
            ]
        },
        {
            "cell_type": "code",
            "execution_count": 26,
            "metadata": {},
            "outputs": [],
            "source": [
                "#define a pipeline that can take the training inputs and the training labels, \n",
                "# drop the categorical features and fit the training data to the classifier\n",
                "model_pipeline = Pipeline(\n",
                "        [\n",
                "            ('drop_columns', config.DROP_COLUMNS),\n",
                "            ('clf', ExtraTreesClassifier(random_state=9000))\n",
                "        ]\n",
                "    )"
            ]
        },
        {
            "cell_type": "code",
            "execution_count": 27,
            "metadata": {},
            "outputs": [
                {
                    "data": {
                        "text/html": [
                            "<style>#sk-container-id-4 {color: black;background-color: white;}#sk-container-id-4 pre{padding: 0;}#sk-container-id-4 div.sk-toggleable {background-color: white;}#sk-container-id-4 label.sk-toggleable__label {cursor: pointer;display: block;width: 100%;margin-bottom: 0;padding: 0.3em;box-sizing: border-box;text-align: center;}#sk-container-id-4 label.sk-toggleable__label-arrow:before {content: \"▸\";float: left;margin-right: 0.25em;color: #696969;}#sk-container-id-4 label.sk-toggleable__label-arrow:hover:before {color: black;}#sk-container-id-4 div.sk-estimator:hover label.sk-toggleable__label-arrow:before {color: black;}#sk-container-id-4 div.sk-toggleable__content {max-height: 0;max-width: 0;overflow: hidden;text-align: left;background-color: #f0f8ff;}#sk-container-id-4 div.sk-toggleable__content pre {margin: 0.2em;color: black;border-radius: 0.25em;background-color: #f0f8ff;}#sk-container-id-4 input.sk-toggleable__control:checked~div.sk-toggleable__content {max-height: 200px;max-width: 100%;overflow: auto;}#sk-container-id-4 input.sk-toggleable__control:checked~label.sk-toggleable__label-arrow:before {content: \"▾\";}#sk-container-id-4 div.sk-estimator input.sk-toggleable__control:checked~label.sk-toggleable__label {background-color: #d4ebff;}#sk-container-id-4 div.sk-label input.sk-toggleable__control:checked~label.sk-toggleable__label {background-color: #d4ebff;}#sk-container-id-4 input.sk-hidden--visually {border: 0;clip: rect(1px 1px 1px 1px);clip: rect(1px, 1px, 1px, 1px);height: 1px;margin: -1px;overflow: hidden;padding: 0;position: absolute;width: 1px;}#sk-container-id-4 div.sk-estimator {font-family: monospace;background-color: #f0f8ff;border: 1px dotted black;border-radius: 0.25em;box-sizing: border-box;margin-bottom: 0.5em;}#sk-container-id-4 div.sk-estimator:hover {background-color: #d4ebff;}#sk-container-id-4 div.sk-parallel-item::after {content: \"\";width: 100%;border-bottom: 1px solid gray;flex-grow: 1;}#sk-container-id-4 div.sk-label:hover label.sk-toggleable__label {background-color: #d4ebff;}#sk-container-id-4 div.sk-serial::before {content: \"\";position: absolute;border-left: 1px solid gray;box-sizing: border-box;top: 0;bottom: 0;left: 50%;z-index: 0;}#sk-container-id-4 div.sk-serial {display: flex;flex-direction: column;align-items: center;background-color: white;padding-right: 0.2em;padding-left: 0.2em;position: relative;}#sk-container-id-4 div.sk-item {position: relative;z-index: 1;}#sk-container-id-4 div.sk-parallel {display: flex;align-items: stretch;justify-content: center;background-color: white;position: relative;}#sk-container-id-4 div.sk-item::before, #sk-container-id-4 div.sk-parallel-item::before {content: \"\";position: absolute;border-left: 1px solid gray;box-sizing: border-box;top: 0;bottom: 0;left: 50%;z-index: -1;}#sk-container-id-4 div.sk-parallel-item {display: flex;flex-direction: column;z-index: 1;position: relative;background-color: white;}#sk-container-id-4 div.sk-parallel-item:first-child::after {align-self: flex-end;width: 50%;}#sk-container-id-4 div.sk-parallel-item:last-child::after {align-self: flex-start;width: 50%;}#sk-container-id-4 div.sk-parallel-item:only-child::after {width: 0;}#sk-container-id-4 div.sk-dashed-wrapped {border: 1px dashed gray;margin: 0 0.4em 0.5em 0.4em;box-sizing: border-box;padding-bottom: 0.4em;background-color: white;}#sk-container-id-4 div.sk-label label {font-family: monospace;font-weight: bold;display: inline-block;line-height: 1.2em;}#sk-container-id-4 div.sk-label-container {text-align: center;}#sk-container-id-4 div.sk-container {/* jupyter's `normalize.less` sets `[hidden] { display: none; }` but bootstrap.min.css set `[hidden] { display: none !important; }` so we also need the `!important` here to be able to override the default hidden behavior on the sphinx rendered scikit-learn.org. See: https://github.com/scikit-learn/scikit-learn/issues/21755 */display: inline-block !important;position: relative;}#sk-container-id-4 div.sk-text-repr-fallback {display: none;}</style><div id=\"sk-container-id-4\" class=\"sk-top-container\"><div class=\"sk-text-repr-fallback\"><pre>Pipeline(steps=[(&#x27;drop_columns&#x27;,\n",
                            "                 FunctionTransformer(func=&lt;function drop_columns at 0x126a60430&gt;)),\n",
                            "                (&#x27;clf&#x27;, ExtraTreesClassifier(random_state=9000))])</pre><b>In a Jupyter environment, please rerun this cell to show the HTML representation or trust the notebook. <br />On GitHub, the HTML representation is unable to render, please try loading this page with nbviewer.org.</b></div><div class=\"sk-container\" hidden><div class=\"sk-item sk-dashed-wrapped\"><div class=\"sk-label-container\"><div class=\"sk-label sk-toggleable\"><input class=\"sk-toggleable__control sk-hidden--visually\" id=\"sk-estimator-id-4\" type=\"checkbox\" ><label for=\"sk-estimator-id-4\" class=\"sk-toggleable__label sk-toggleable__label-arrow\">Pipeline</label><div class=\"sk-toggleable__content\"><pre>Pipeline(steps=[(&#x27;drop_columns&#x27;,\n",
                            "                 FunctionTransformer(func=&lt;function drop_columns at 0x126a60430&gt;)),\n",
                            "                (&#x27;clf&#x27;, ExtraTreesClassifier(random_state=9000))])</pre></div></div></div><div class=\"sk-serial\"><div class=\"sk-item\"><div class=\"sk-estimator sk-toggleable\"><input class=\"sk-toggleable__control sk-hidden--visually\" id=\"sk-estimator-id-5\" type=\"checkbox\" ><label for=\"sk-estimator-id-5\" class=\"sk-toggleable__label sk-toggleable__label-arrow\">FunctionTransformer</label><div class=\"sk-toggleable__content\"><pre>FunctionTransformer(func=&lt;function drop_columns at 0x126a60430&gt;)</pre></div></div></div><div class=\"sk-item\"><div class=\"sk-estimator sk-toggleable\"><input class=\"sk-toggleable__control sk-hidden--visually\" id=\"sk-estimator-id-6\" type=\"checkbox\" ><label for=\"sk-estimator-id-6\" class=\"sk-toggleable__label sk-toggleable__label-arrow\">ExtraTreesClassifier</label><div class=\"sk-toggleable__content\"><pre>ExtraTreesClassifier(random_state=9000)</pre></div></div></div></div></div></div></div>"
                        ],
                        "text/plain": [
                            "Pipeline(steps=[('drop_columns',\n",
                            "                 FunctionTransformer(func=<function drop_columns at 0x126a60430>)),\n",
                            "                ('clf', ExtraTreesClassifier(random_state=9000))])"
                        ]
                    },
                    "execution_count": 27,
                    "metadata": {},
                    "output_type": "execute_result"
                }
            ],
            "source": [
                "model_pipeline.fit(model_train_X, model_train_y)"
            ]
        },
        {
            "cell_type": "code",
            "execution_count": 28,
            "metadata": {},
            "outputs": [
                {
                    "data": {
                        "text/plain": [
                            "0.6"
                        ]
                    },
                    "execution_count": 28,
                    "metadata": {},
                    "output_type": "execute_result"
                }
            ],
            "source": [
                "model_preds = model_pipeline.predict(model_test_X)\n",
                "model_acc_metrics = accuracy_score(model_test_y, model_preds)\n",
                "round(model_acc_metrics, 2)"
            ]
        },
        {
            "cell_type": "markdown",
            "metadata": {},
            "source": [
                "The model achieved a 60% model accuracy"
            ]
        },
        {
            "cell_type": "markdown",
            "metadata": {},
            "source": [
                "## 5.0 Model Evaluation\n",
                "\n",
                "Let's see some evaluation metrics of the ExtraTreeClassifier.\n",
                "\n",
                "First we will see the features importance plot."
            ]
        },
        {
            "cell_type": "code",
            "execution_count": 29,
            "metadata": {},
            "outputs": [
                {
                    "data": {
                        "image/png": "[encoded data removed]",
                        "text/plain": [
                            "<Figure size 700x500 with 1 Axes>"
                        ]
                    },
                    "metadata": {
                        "needs_background": "light"
                    },
                    "output_type": "display_data"
                }
            ],
            "source": [
                "numerical_columns=list(config.drop_columns(model_train_X).columns)\n",
                "importance = pd.Series(model_pipeline.steps[1][1].feature_importances_, index = np.array(numerical_columns))\n",
                "importance_df = pd.DataFrame(importance)\n",
                "importance_df.reset_index(inplace=True)\n",
                "importance_df.rename(columns={'index':'features', 0:'scores'}, inplace=True)\n",
                "importance_df.sort_values('scores', ascending=False, inplace=True)\n",
                "fig, ax = plt.subplots(figsize=(7,5), dpi =100)\n",
                "sns.barplot(\n",
                "        x ='scores', y = 'features', data = importance_df \n",
                "        )\n",
                "plt.title('Features Importance', fontweight = 'bold')\n",
                "plt.savefig('images/Features_importance.png')\n",
                "plt.show()"
            ]
        },
        {
            "cell_type": "code",
            "execution_count": 30,
            "metadata": {},
            "outputs": [
                {
                    "data": {
                        "text/plain": [
                            "<function matplotlib.pyplot.show(close=None, block=None)>"
                        ]
                    },
                    "execution_count": 30,
                    "metadata": {},
                    "output_type": "execute_result"
                },
                {
                    "data": {
                        "image/png": "[encoded data removed]",
                        "text/plain": [
                            "<Figure size 800x600 with 2 Axes>"
                        ]
                    },
                    "metadata": {
                        "needs_background": "light"
                    },
                    "output_type": "display_data"
                }
            ],
            "source": [
                "#confusion matrix plot\n",
                "target = ['1','2','3','4','5','6','7','8','9']\n",
                "data = confusion_matrix(model_test_y, model_preds)\n",
                "df_cm = pd.DataFrame(data, columns=target, index = target)\n",
                "df_cm.index.name = 'Actual class'\n",
                "df_cm.columns.name = 'Predicted class'\n",
                "fig, ax = plt.subplots(figsize=(8,6), dpi =100)\n",
                "plt.title('Confusion Matrix for ExtraTreeClassifier Model', fontsize=14, fontweight='bold')\n",
                "sns.heatmap(df_cm, cmap='Blues', linewidths=1, annot=True, ax=ax, fmt='g')\n",
                "plt.savefig('images/Confusion Matrix for ExtraTreeClassifier Model')\n",
                "plt.show"
            ]
        },
        {
            "cell_type": "code",
            "execution_count": 31,
            "metadata": {},
            "outputs": [
                {
                    "name": "stdout",
                    "output_type": "stream",
                    "text": [
                        "              precision    recall  f1-score   support\n",
                        "\n",
                        "           1       0.60      0.13      0.22        89\n",
                        "           2       0.39      0.80      0.52        89\n",
                        "           3       0.85      0.68      0.75       117\n",
                        "           4       0.11      0.14      0.12         7\n",
                        "           5       0.38      0.16      0.22        19\n",
                        "           6       0.67      0.69      0.68        71\n",
                        "           7       0.69      0.53      0.60        17\n",
                        "           8       0.44      0.62      0.52        40\n",
                        "           9       0.98      0.87      0.92        68\n",
                        "\n",
                        "    accuracy                           0.60       517\n",
                        "   macro avg       0.57      0.51      0.51       517\n",
                        "weighted avg       0.66      0.60      0.58       517\n",
                        "\n"
                    ]
                }
            ],
            "source": [
                "model_report = classification_report(model_test_y, model_preds, target_names=target)\n",
                "print(model_report)"
            ]
        },
        {
            "cell_type": "markdown",
            "metadata": {},
            "source": [
                "There are some points we can pick from looking closely at these evaluation metrics. \n",
                "- There is no dominant features in the dataset with respect to the importance to the model\n",
                "- The apparent size of some of the classes in the dataset. Specifically classes 4, 5 and 7. \n",
                "- The misclassifications we see in the cconfusion matrix. This can also be linked to the size of individual classes in the dataset. The misclassifications are more noticeable in the classes with fewer occurrences."
            ]
        },
        {
            "cell_type": "code",
            "execution_count": 32,
            "metadata": {},
            "outputs": [
                {
                    "data": {
                        "text/plain": [
                            "['facies_classification_model.joblib']"
                        ]
                    },
                    "execution_count": 32,
                    "metadata": {},
                    "output_type": "execute_result"
                }
            ],
            "source": [
                "#save the model in a .joblib file\n",
                "filename = 'facies_classification_model.joblib'\n",
                "joblib.dump(model_pipeline, filename)"
            ]
        },
        {
            "cell_type": "markdown",
            "metadata": {},
            "source": [
                "## 6.0 Visualising Predictions\n",
                "\n",
                "Let's take our test well to trial the saved model. We will use the function that plots the logs and the facies of a well, add some functionalities to it and be able to represent the predictions in a plot.\n",
                "\n",
                "The function for plotting the predictions takes the data (without labels of course) and first make predictions based on the data. The predicted labels are joined to the data and plotted as shown in the plot we have below."
            ]
        },
        {
            "cell_type": "code",
            "execution_count": 33,
            "metadata": {},
            "outputs": [],
            "source": [
                "test_well_input_data = test_well_data.drop('Facies', axis = 1)"
            ]
        },
        {
            "cell_type": "code",
            "execution_count": 34,
            "metadata": {},
            "outputs": [
                {
                    "data": {
                        "image/png": "[encoded data removed]",
                        "text/plain": [
                            "<Figure size 576x864 with 7 Axes>"
                        ]
                    },
                    "metadata": {
                        "needs_background": "light"
                    },
                    "output_type": "display_data"
                }
            ],
            "source": [
                "utils.plot_predictions(test_well_input_data, 'facies_classification_model.joblib')"
            ]
        },
        {
            "cell_type": "markdown",
            "metadata": {},
            "source": [
                "This plot will be used in the deployed app as its output when it receives the logs of a well corresponding to the training data of the model as its input."
            ]
        },
        {
            "cell_type": "markdown",
            "metadata": {},
            "source": [
                "## 7.0 Dashboard"
            ]
        },
        {
            "cell_type": "markdown",
            "metadata": {},
            "source": [
                "Let's create a csv file from the test_well dataframe that will be used to trial our dashboard."
            ]
        },
        {
            "cell_type": "code",
            "execution_count": 35,
            "metadata": {},
            "outputs": [],
            "source": [
                "test_well_data = test_well_data.drop('Facies', axis = 1)\n",
                "model = joblib.load('facies_classification_model.joblib')\n",
                "test_well_predictions = model.predict(test_well_data)\n",
                "test_well_data['Facies'] = test_well_predictions\n",
                "\n",
                "test_well_csv = test_well_data.to_csv('datasets/test_well.csv', index = False)"
            ]
        },
        {
            "cell_type": "code",
            "execution_count": 36,
            "metadata": {},
            "outputs": [],
            "source": [
                "app_test_well = test_well_data.drop('Facies', axis = 1)\n",
                "app_test_well_csv = app_test_well.to_csv('datasets/app_test_well.csv', index = False)"
            ]
        }
    ],
    "metadata": {
        "interpreter": {
            "hash": "08397425118918b49c4d77146d8061b409a818a74313acb14b59d26b3709d9cc"
        },
        "kernelspec": {
            "display_name": "Python 3.10.4 ('.venv': venv)",
            "language": "python",
            "name": "python3"
        },
        "language_info": {
            "codemirror_mode": {
                "name": "ipython",
                "version": 3
            },
            "file_extension": ".py",
            "mimetype": "text/x-python",
            "name": "python",
            "nbconvert_exporter": "python",
            "pygments_lexer": "ipython3",
            "version": "3.10.4"
        },
        "orig_nbformat": 4
    },
    "nbformat": 4,
    "nbformat_minor": 2
}
