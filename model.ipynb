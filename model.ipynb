{
 "cells": [
  {
   "cell_type": "markdown",
   "metadata": {},
   "source": [
    "# Modelling"
   ]
  },
  {
   "cell_type": "markdown",
   "metadata": {},
   "source": [
    "We will experiment with different preprocessing functions and different classifiers to find the best performing model."
   ]
  },
  {
   "cell_type": "markdown",
   "metadata": {},
   "source": [
    "## 1.0 Loading Libraries"
   ]
  },
  {
   "cell_type": "code",
   "execution_count": 1,
   "metadata": {},
   "outputs": [
    {
     "name": "stdout",
     "output_type": "stream",
     "text": [
      "loading libraries...\n"
     ]
    }
   ],
   "source": [
    "print ('loading libraries...')\n",
    "import os\n",
    "\n",
    "import warnings\n",
    "warnings.filterwarnings('ignore')\n",
    "\n",
    "import pandas as pd\n",
    "import matplotlib.pyplot as plt\n",
    "import seaborn as sns\n",
    "import config\n",
    "import utils\n",
    "from sklearn.pipeline import Pipeline\n",
    "from sklearn.preprocessing import MinMaxScaler, StandardScaler, PowerTransformer\n",
    "from sklearn.model_selection import StratifiedKFold\n",
    "from sklearn.model_selection import GridSearchCV\n",
    "from sklearn.dummy import DummyClassifier\n",
    "from sklearn.ensemble import ExtraTreesClassifier\n",
    "from xgboost import XGBClassifier\n",
    "from sklearn.metrics import accuracy_score,  confusion_matrix, classification_report\n",
    "import joblib"
   ]
  },
  {
   "cell_type": "markdown",
   "metadata": {},
   "source": [
    "## 2.0 Prepare the Dataset\n",
    "\n",
    "We need to load the datset and drop the duplicated row. We will select one well from the dataset that we use to test our final model and its plotting function."
   ]
  },
  {
   "cell_type": "code",
   "execution_count": 2,
   "metadata": {},
   "outputs": [
    {
     "data": {
      "text/html": [
       "<div>\n",
       "<style scoped>\n",
       "    .dataframe tbody tr th:only-of-type {\n",
       "        vertical-align: middle;\n",
       "    }\n",
       "\n",
       "    .dataframe tbody tr th {\n",
       "        vertical-align: top;\n",
       "    }\n",
       "\n",
       "    .dataframe thead th {\n",
       "        text-align: right;\n",
       "    }\n",
       "</style>\n",
       "<table border=\"1\" class=\"dataframe\">\n",
       "  <thead>\n",
       "    <tr style=\"text-align: right;\">\n",
       "      <th></th>\n",
       "      <th>Facies</th>\n",
       "      <th>Formation</th>\n",
       "      <th>Well Name</th>\n",
       "      <th>Depth</th>\n",
       "      <th>GR</th>\n",
       "      <th>ILD_log10</th>\n",
       "      <th>DeltaPHI</th>\n",
       "      <th>PHIND</th>\n",
       "      <th>PE</th>\n",
       "      <th>NM_M</th>\n",
       "      <th>RELPOS</th>\n",
       "    </tr>\n",
       "  </thead>\n",
       "  <tbody>\n",
       "    <tr>\n",
       "      <th>0</th>\n",
       "      <td>3</td>\n",
       "      <td>A1 SH</td>\n",
       "      <td>SHRIMPLIN</td>\n",
       "      <td>2793.0</td>\n",
       "      <td>77.45</td>\n",
       "      <td>0.664</td>\n",
       "      <td>9.9</td>\n",
       "      <td>11.915</td>\n",
       "      <td>4.6</td>\n",
       "      <td>1</td>\n",
       "      <td>1.000</td>\n",
       "    </tr>\n",
       "    <tr>\n",
       "      <th>1</th>\n",
       "      <td>3</td>\n",
       "      <td>A1 SH</td>\n",
       "      <td>SHRIMPLIN</td>\n",
       "      <td>2793.5</td>\n",
       "      <td>78.26</td>\n",
       "      <td>0.661</td>\n",
       "      <td>14.2</td>\n",
       "      <td>12.565</td>\n",
       "      <td>4.1</td>\n",
       "      <td>1</td>\n",
       "      <td>0.979</td>\n",
       "    </tr>\n",
       "    <tr>\n",
       "      <th>2</th>\n",
       "      <td>3</td>\n",
       "      <td>A1 SH</td>\n",
       "      <td>SHRIMPLIN</td>\n",
       "      <td>2794.0</td>\n",
       "      <td>79.05</td>\n",
       "      <td>0.658</td>\n",
       "      <td>14.8</td>\n",
       "      <td>13.050</td>\n",
       "      <td>3.6</td>\n",
       "      <td>1</td>\n",
       "      <td>0.957</td>\n",
       "    </tr>\n",
       "    <tr>\n",
       "      <th>3</th>\n",
       "      <td>3</td>\n",
       "      <td>A1 SH</td>\n",
       "      <td>SHRIMPLIN</td>\n",
       "      <td>2794.5</td>\n",
       "      <td>86.10</td>\n",
       "      <td>0.655</td>\n",
       "      <td>13.9</td>\n",
       "      <td>13.115</td>\n",
       "      <td>3.5</td>\n",
       "      <td>1</td>\n",
       "      <td>0.936</td>\n",
       "    </tr>\n",
       "    <tr>\n",
       "      <th>4</th>\n",
       "      <td>3</td>\n",
       "      <td>A1 SH</td>\n",
       "      <td>SHRIMPLIN</td>\n",
       "      <td>2795.0</td>\n",
       "      <td>74.58</td>\n",
       "      <td>0.647</td>\n",
       "      <td>13.5</td>\n",
       "      <td>13.300</td>\n",
       "      <td>3.4</td>\n",
       "      <td>1</td>\n",
       "      <td>0.915</td>\n",
       "    </tr>\n",
       "  </tbody>\n",
       "</table>\n",
       "</div>"
      ],
      "text/plain": [
       "   Facies Formation  Well Name   Depth     GR  ILD_log10  DeltaPHI   PHIND  \\\n",
       "0       3     A1 SH  SHRIMPLIN  2793.0  77.45      0.664       9.9  11.915   \n",
       "1       3     A1 SH  SHRIMPLIN  2793.5  78.26      0.661      14.2  12.565   \n",
       "2       3     A1 SH  SHRIMPLIN  2794.0  79.05      0.658      14.8  13.050   \n",
       "3       3     A1 SH  SHRIMPLIN  2794.5  86.10      0.655      13.9  13.115   \n",
       "4       3     A1 SH  SHRIMPLIN  2795.0  74.58      0.647      13.5  13.300   \n",
       "\n",
       "    PE  NM_M  RELPOS  \n",
       "0  4.6     1   1.000  \n",
       "1  4.1     1   0.979  \n",
       "2  3.6     1   0.957  \n",
       "3  3.5     1   0.936  \n",
       "4  3.4     1   0.915  "
      ]
     },
     "execution_count": 2,
     "metadata": {},
     "output_type": "execute_result"
    }
   ],
   "source": [
    "#load dataset\n",
    "filename = 'facies_data.csv'\n",
    "data = pd.read_csv(filename)\n",
    "data = data.drop_duplicates().reset_index(drop=True)\n",
    "data.head()"
   ]
  },
  {
   "cell_type": "code",
   "execution_count": 3,
   "metadata": {},
   "outputs": [],
   "source": [
    "#select one well for testing\n",
    "test_well_data = data[data['Well Name'] == 'CHURCHMAN BIBLE']"
   ]
  },
  {
   "cell_type": "markdown",
   "metadata": {},
   "source": [
    "## 3.0 Model\n",
    "\n",
    "### 3.1 Train Test Split\n",
    "\n",
    "We will apply a custom split to the dataset. This follows the mode the model will be used in the field. Well logs are usually generated for a single well at a time. These logs can be passed into the model to predict the facies classes. The dataset we are working with is relatively small compared to the number of classes in the dataset. As a result we will include the test well in the training but will ensure it is in the test part of the split."
   ]
  },
  {
   "cell_type": "code",
   "execution_count": 4,
   "metadata": {},
   "outputs": [
    {
     "data": {
      "text/plain": [
       "((2714, 11), (517, 11))"
      ]
     },
     "execution_count": 4,
     "metadata": {},
     "output_type": "execute_result"
    }
   ],
   "source": [
    "#split dataset by well using custom train test split function\n",
    "train, test = utils.train_test_split_by_well(data, config.TRAIN_SIZE)\n",
    "train.shape, test.shape"
   ]
  },
  {
   "cell_type": "code",
   "execution_count": 5,
   "metadata": {},
   "outputs": [
    {
     "data": {
      "image/png": "[encoded data removed]",
      "text/plain": [
       "<Figure size 504x360 with 1 Axes>"
      ]
     },
     "metadata": {
      "needs_background": "light"
     },
     "output_type": "display_data"
    }
   ],
   "source": [
    "#visualizing the wells in the train and test splits\n",
    "utils.train_test_plot(data, train, test)"
   ]
  },
  {
   "cell_type": "markdown",
   "metadata": {},
   "source": [
    "We established from our EDA that the categorical features would not be used for model training. These features are dropped from the dataset at this point. Then the input variables are separated from the target variable."
   ]
  },
  {
   "cell_type": "code",
   "execution_count": 6,
   "metadata": {},
   "outputs": [],
   "source": [
    "train = train.drop(['Well Name', 'Formation', 'Depth'], axis =1)\n",
    "test = test.drop(['Well Name', 'Formation', 'Depth'], axis =1)"
   ]
  },
  {
   "cell_type": "code",
   "execution_count": 7,
   "metadata": {},
   "outputs": [
    {
     "data": {
      "text/plain": [
       "((2714, 7), (2714,), (517, 7), (517,))"
      ]
     },
     "execution_count": 7,
     "metadata": {},
     "output_type": "execute_result"
    }
   ],
   "source": [
    "train_X = train.drop('Facies', axis = 1)\n",
    "train_y = train.Facies\n",
    "test_X = test.drop('Facies', axis = 1)\n",
    "test_y = test.Facies\n",
    "train_X.shape, train_y.shape, test_X.shape, test_y.shape"
   ]
  },
  {
   "cell_type": "markdown",
   "metadata": {},
   "source": [
    "### 3.2 Experiments\n",
    "\n",
    "The metric for evaluating the models will be the scikit learnn accuracy score.\n",
    "\n",
    "### Dummy Classifier\n",
    "\n",
    "We start off with the modelling experiments with a dummy classifier. The accuracy score for a dummy classifier is 17%. This poor score is not unexpected given the number of classes in the dataset and its size.\n",
    "\n"
   ]
  },
  {
   "cell_type": "code",
   "execution_count": 8,
   "metadata": {},
   "outputs": [
    {
     "data": {
      "text/plain": [
       "0.17"
      ]
     },
     "execution_count": 8,
     "metadata": {},
     "output_type": "execute_result"
    }
   ],
   "source": [
    "model = DummyClassifier(random_state=16)\n",
    "model.fit(train_X, train_y)\n",
    "dummy_preds= model.predict(test_X)\n",
    "acc_metrics = accuracy_score(test_y, dummy_preds)\n",
    "round(acc_metrics, 2)"
   ]
  },
  {
   "cell_type": "markdown",
   "metadata": {},
   "source": [
    "### Pipeline\n",
    "\n",
    "Let's use a list of pipelines to find a model that can give a fairly better result. To improve the performance of the models in the pipelines, let's also include a preprocessor step before passing training the models. \n",
    "\n",
    "First, we create the functions for the creating and fitting the pipeline and a function to calculate the accuracy for each pipeline."
   ]
  },
  {
   "cell_type": "code",
   "execution_count": 9,
   "metadata": {},
   "outputs": [],
   "source": [
    "# create and fitting a pipeline \n",
    "def create_pipeline(clf, transformer, train_X, train_y):\n",
    "    pipeline = Pipeline(\n",
    "        [\n",
    "            ('transformer', transformer),\n",
    "            ('clf', clf)\n",
    "        ]\n",
    "    )\n",
    "    pipeline.fit(train_X, train_y)\n",
    "\n",
    "    return pipeline\n",
    "\n",
    "# function to calculate the accuracy score for each pipeline\n",
    "def pipeline_acc_score(pipeline, test_X, test_y):\n",
    "    preds = pipeline.predict(test_X)\n",
    "\n",
    "    acc_score_pipeline = accuracy_score(test_y, preds)\n",
    "\n",
    "    return acc_score_pipeline"
   ]
  },
  {
   "cell_type": "markdown",
   "metadata": {},
   "source": [
    "Putting the two functions together we create a function that will take a list of models and a list of preprocessors as arguments. The pipelines are fitted to the training data and the accuracy is calculated. The function returns a dataframe with the names of the model, the preprocessor and the accuracy score for every model-processor pipeline."
   ]
  },
  {
   "cell_type": "code",
   "execution_count": 10,
   "metadata": {},
   "outputs": [],
   "source": [
    "def evaluate_model(models, preprocessors, train_X, train_y, test_X, test_y):\n",
    "    models_list = []\n",
    "    transformer = []\n",
    "    accuracy = []\n",
    "    for model in models:\n",
    "        for preprocessor in preprocessors:\n",
    "            pipeline = create_pipeline(model, preprocessor, train_X, train_y)\n",
    "            model_acc_score = pipeline_acc_score(pipeline, test_X, test_y)\n",
    "            models_list.append(model)\n",
    "            transformer.append(preprocessor)\n",
    "            accuracy.append(round(model_acc_score, 2))\n",
    "    models_evaluation_list = []\n",
    "    [models_evaluation_list.append([model, preprocessor, accuracy]) \n",
    "    for model, preprocessor, accuracy in zip( models_list, transformer, accuracy)]\n",
    "    # models_evaluation_list = [[models_list, transformer, accuracy]]\n",
    "    models_evaluation_df = pd.DataFrame(\n",
    "        models_evaluation_list, \n",
    "        columns = ['models', 'transformers', 'accuracy']\n",
    "    )\n",
    "    return models_evaluation_df"
   ]
  },
  {
   "cell_type": "code",
   "execution_count": 11,
   "metadata": {},
   "outputs": [
    {
     "name": "stdout",
     "output_type": "stream",
     "text": [
      "[14:07:18] WARNING: ../src/learner.cc:1115: Starting in XGBoost 1.3.0, the default evaluation metric used with the objective 'multi:softprob' was changed from 'merror' to 'mlogloss'. Explicitly set eval_metric if you'd like to restore the old behavior.\n",
      "[14:07:19] WARNING: ../src/learner.cc:1115: Starting in XGBoost 1.3.0, the default evaluation metric used with the objective 'multi:softprob' was changed from 'merror' to 'mlogloss'. Explicitly set eval_metric if you'd like to restore the old behavior.\n",
      "[14:07:20] WARNING: ../src/learner.cc:1115: Starting in XGBoost 1.3.0, the default evaluation metric used with the objective 'multi:softprob' was changed from 'merror' to 'mlogloss'. Explicitly set eval_metric if you'd like to restore the old behavior.\n",
      "[14:07:22] WARNING: ../src/learner.cc:1115: Starting in XGBoost 1.3.0, the default evaluation metric used with the objective 'multi:softprob' was changed from 'merror' to 'mlogloss'. Explicitly set eval_metric if you'd like to restore the old behavior.\n"
     ]
    },
    {
     "data": {
      "text/html": [
       "<div>\n",
       "<style scoped>\n",
       "    .dataframe tbody tr th:only-of-type {\n",
       "        vertical-align: middle;\n",
       "    }\n",
       "\n",
       "    .dataframe tbody tr th {\n",
       "        vertical-align: top;\n",
       "    }\n",
       "\n",
       "    .dataframe thead th {\n",
       "        text-align: right;\n",
       "    }\n",
       "</style>\n",
       "<table border=\"1\" class=\"dataframe\">\n",
       "  <thead>\n",
       "    <tr style=\"text-align: right;\">\n",
       "      <th></th>\n",
       "      <th>models</th>\n",
       "      <th>transformers</th>\n",
       "      <th>accuracy</th>\n",
       "    </tr>\n",
       "  </thead>\n",
       "  <tbody>\n",
       "    <tr>\n",
       "      <th>0</th>\n",
       "      <td>LogisticRegression()</td>\n",
       "      <td>Normalizer()</td>\n",
       "      <td>0.35</td>\n",
       "    </tr>\n",
       "    <tr>\n",
       "      <th>1</th>\n",
       "      <td>LogisticRegression()</td>\n",
       "      <td>MinMaxScaler()</td>\n",
       "      <td>0.37</td>\n",
       "    </tr>\n",
       "    <tr>\n",
       "      <th>2</th>\n",
       "      <td>LogisticRegression()</td>\n",
       "      <td>StandardScaler()</td>\n",
       "      <td>0.50</td>\n",
       "    </tr>\n",
       "    <tr>\n",
       "      <th>3</th>\n",
       "      <td>LogisticRegression()</td>\n",
       "      <td>PowerTransformer()</td>\n",
       "      <td>0.51</td>\n",
       "    </tr>\n",
       "    <tr>\n",
       "      <th>4</th>\n",
       "      <td>(ExtraTreeClassifier(random_state=372976392), ...</td>\n",
       "      <td>Normalizer()</td>\n",
       "      <td>0.53</td>\n",
       "    </tr>\n",
       "    <tr>\n",
       "      <th>5</th>\n",
       "      <td>(ExtraTreeClassifier(random_state=372976392), ...</td>\n",
       "      <td>MinMaxScaler()</td>\n",
       "      <td>0.58</td>\n",
       "    </tr>\n",
       "    <tr>\n",
       "      <th>6</th>\n",
       "      <td>(ExtraTreeClassifier(random_state=372976392), ...</td>\n",
       "      <td>StandardScaler()</td>\n",
       "      <td>0.58</td>\n",
       "    </tr>\n",
       "    <tr>\n",
       "      <th>7</th>\n",
       "      <td>(ExtraTreeClassifier(random_state=372976392), ...</td>\n",
       "      <td>PowerTransformer()</td>\n",
       "      <td>0.58</td>\n",
       "    </tr>\n",
       "    <tr>\n",
       "      <th>8</th>\n",
       "      <td>XGBClassifier(base_score=0.5, booster='gbtree'...</td>\n",
       "      <td>Normalizer()</td>\n",
       "      <td>0.52</td>\n",
       "    </tr>\n",
       "    <tr>\n",
       "      <th>9</th>\n",
       "      <td>XGBClassifier(base_score=0.5, booster='gbtree'...</td>\n",
       "      <td>MinMaxScaler()</td>\n",
       "      <td>0.52</td>\n",
       "    </tr>\n",
       "    <tr>\n",
       "      <th>10</th>\n",
       "      <td>XGBClassifier(base_score=0.5, booster='gbtree'...</td>\n",
       "      <td>StandardScaler()</td>\n",
       "      <td>0.52</td>\n",
       "    </tr>\n",
       "    <tr>\n",
       "      <th>11</th>\n",
       "      <td>XGBClassifier(base_score=0.5, booster='gbtree'...</td>\n",
       "      <td>PowerTransformer()</td>\n",
       "      <td>0.52</td>\n",
       "    </tr>\n",
       "    <tr>\n",
       "      <th>12</th>\n",
       "      <td>DecisionTreeClassifier()</td>\n",
       "      <td>Normalizer()</td>\n",
       "      <td>0.45</td>\n",
       "    </tr>\n",
       "    <tr>\n",
       "      <th>13</th>\n",
       "      <td>DecisionTreeClassifier()</td>\n",
       "      <td>MinMaxScaler()</td>\n",
       "      <td>0.49</td>\n",
       "    </tr>\n",
       "    <tr>\n",
       "      <th>14</th>\n",
       "      <td>DecisionTreeClassifier()</td>\n",
       "      <td>StandardScaler()</td>\n",
       "      <td>0.47</td>\n",
       "    </tr>\n",
       "    <tr>\n",
       "      <th>15</th>\n",
       "      <td>DecisionTreeClassifier()</td>\n",
       "      <td>PowerTransformer()</td>\n",
       "      <td>0.46</td>\n",
       "    </tr>\n",
       "  </tbody>\n",
       "</table>\n",
       "</div>"
      ],
      "text/plain": [
       "                                               models        transformers  \\\n",
       "0                                LogisticRegression()        Normalizer()   \n",
       "1                                LogisticRegression()      MinMaxScaler()   \n",
       "2                                LogisticRegression()    StandardScaler()   \n",
       "3                                LogisticRegression()  PowerTransformer()   \n",
       "4   (ExtraTreeClassifier(random_state=372976392), ...        Normalizer()   \n",
       "5   (ExtraTreeClassifier(random_state=372976392), ...      MinMaxScaler()   \n",
       "6   (ExtraTreeClassifier(random_state=372976392), ...    StandardScaler()   \n",
       "7   (ExtraTreeClassifier(random_state=372976392), ...  PowerTransformer()   \n",
       "8   XGBClassifier(base_score=0.5, booster='gbtree'...        Normalizer()   \n",
       "9   XGBClassifier(base_score=0.5, booster='gbtree'...      MinMaxScaler()   \n",
       "10  XGBClassifier(base_score=0.5, booster='gbtree'...    StandardScaler()   \n",
       "11  XGBClassifier(base_score=0.5, booster='gbtree'...  PowerTransformer()   \n",
       "12                           DecisionTreeClassifier()        Normalizer()   \n",
       "13                           DecisionTreeClassifier()      MinMaxScaler()   \n",
       "14                           DecisionTreeClassifier()    StandardScaler()   \n",
       "15                           DecisionTreeClassifier()  PowerTransformer()   \n",
       "\n",
       "    accuracy  \n",
       "0       0.35  \n",
       "1       0.37  \n",
       "2       0.50  \n",
       "3       0.51  \n",
       "4       0.53  \n",
       "5       0.58  \n",
       "6       0.58  \n",
       "7       0.58  \n",
       "8       0.52  \n",
       "9       0.52  \n",
       "10      0.52  \n",
       "11      0.52  \n",
       "12      0.45  \n",
       "13      0.49  \n",
       "14      0.47  \n",
       "15      0.46  "
      ]
     },
     "execution_count": 11,
     "metadata": {},
     "output_type": "execute_result"
    }
   ],
   "source": [
    "results = evaluate_model(config.MODELS, config.PREPROCESSORS, train_X, train_y, test_X, test_y)\n",
    "results"
   ]
  },
  {
   "cell_type": "markdown",
   "metadata": {},
   "source": [
    "From the results, the ExtraTreeClassifier-PowerTransformer combination has the best accuracy score. We  can then process to use a gridsearchCV to get the best parameter for this model."
   ]
  },
  {
   "cell_type": "markdown",
   "metadata": {},
   "source": [
    "### GridsearchCV\n",
    "\n",
    "After several iterations with and without the preprocessors, it was observed that the best performance is from the default parameters of the model without any preprocessor."
   ]
  },
  {
   "cell_type": "code",
   "execution_count": 12,
   "metadata": {},
   "outputs": [
    {
     "name": "stdout",
     "output_type": "stream",
     "text": [
      "Fitting 3 folds for each of 36 candidates, totalling 108 fits\n",
      "0.5143797160970681\n",
      "\tclf__max_depth: 15\n",
      "\tclf__n_estimators: 60\n"
     ]
    }
   ],
   "source": [
    "# grid search XTC pipeline\n",
    "parameters = {\n",
    "    'clf__n_estimators': [10, 20, 30, 40, 60, 80,],\n",
    "    'clf__max_depth': [15, 20, 25, 30, 40, 50]\n",
    "}\n",
    "\n",
    "CV = StratifiedKFold(n_splits=3)\n",
    "\n",
    "pipeline = Pipeline(\n",
    "        [\n",
    "            ('clf', ExtraTreesClassifier(random_state=16))\n",
    "        ]\n",
    "    )\n",
    "\n",
    "gs_xtc = GridSearchCV(pipeline, parameters, cv=CV, verbose=True)\n",
    "\n",
    "gs_xtc.fit(train_X, train_y)\n",
    "\n",
    "gs_xtc_clf_pred = gs_xtc.predict(test_X)\n",
    "print(gs_xtc.best_score_)\n",
    "best_parameters = gs_xtc.best_estimator_.get_params()\n",
    "for param_name in sorted(parameters.keys()):\n",
    "        print(\"\\t%s: %r\" % (param_name, best_parameters[param_name]))"
   ]
  },
  {
   "cell_type": "markdown",
   "metadata": {},
   "source": [
    "We use the ExtraTreeClassifier for the next stage of the modelling experiments. We were able to get a 58% percent model performance using default parameters and without any preprocessor."
   ]
  },
  {
   "cell_type": "code",
   "execution_count": 13,
   "metadata": {},
   "outputs": [
    {
     "data": {
      "text/plain": [
       "ExtraTreesClassifier(random_state=16)"
      ]
     },
     "execution_count": 13,
     "metadata": {},
     "output_type": "execute_result"
    }
   ],
   "source": [
    "model = ExtraTreesClassifier(random_state=16)\n",
    "model.fit(train_X, train_y)"
   ]
  },
  {
   "cell_type": "code",
   "execution_count": 14,
   "metadata": {},
   "outputs": [
    {
     "data": {
      "text/plain": [
       "0.58"
      ]
     },
     "execution_count": 14,
     "metadata": {},
     "output_type": "execute_result"
    }
   ],
   "source": [
    "predictions_standardscaled = model.predict(test_X)\n",
    "acc_metrics = accuracy_score(test_y, predictions_standardscaled)\n",
    "round(acc_metrics, 2)"
   ]
  },
  {
   "cell_type": "markdown",
   "metadata": {},
   "source": [
    "Before going on, let's use the unskewed function to reduce the skewdness of the data and observe if there will be any improvement in the 58% model performance achieved with the ExtraTreeClassifier."
   ]
  },
  {
   "cell_type": "code",
   "execution_count": 15,
   "metadata": {},
   "outputs": [],
   "source": [
    "#unskew the data\n",
    "data_unskewed = utils.unskew(data)"
   ]
  },
  {
   "cell_type": "code",
   "execution_count": 16,
   "metadata": {},
   "outputs": [
    {
     "data": {
      "text/plain": [
       "((2714, 11), (517, 11))"
      ]
     },
     "execution_count": 16,
     "metadata": {},
     "output_type": "execute_result"
    }
   ],
   "source": [
    "train_unskewed, test_unskewed = utils.train_test_split_by_well(data_unskewed, config.TRAIN_SIZE)\n",
    "train_unskewed.shape, test_unskewed.shape"
   ]
  },
  {
   "cell_type": "code",
   "execution_count": 17,
   "metadata": {},
   "outputs": [],
   "source": [
    "train_unskewed = train_unskewed.drop(['Well Name', 'Formation', 'Depth'], axis =1)\n",
    "test_unskewed = test_unskewed.drop(['Well Name', 'Formation', 'Depth'], axis =1)"
   ]
  },
  {
   "cell_type": "code",
   "execution_count": 18,
   "metadata": {},
   "outputs": [
    {
     "data": {
      "text/plain": [
       "((2714, 7), (2714,), (517, 7), (517,))"
      ]
     },
     "execution_count": 18,
     "metadata": {},
     "output_type": "execute_result"
    }
   ],
   "source": [
    "train_X_unskewed = train_unskewed.drop('Facies', axis = 1)\n",
    "train_y_unskewed = train_unskewed.Facies\n",
    "test_X_unskewed = test_unskewed.drop('Facies', axis = 1)\n",
    "test_y_unskewed = test_unskewed.Facies\n",
    "train_X_unskewed.shape, train_y_unskewed.shape, test_X_unskewed.shape, test_y_unskewed.shape"
   ]
  },
  {
   "cell_type": "code",
   "execution_count": 19,
   "metadata": {},
   "outputs": [
    {
     "data": {
      "text/plain": [
       "ExtraTreesClassifier(random_state=25)"
      ]
     },
     "execution_count": 19,
     "metadata": {},
     "output_type": "execute_result"
    }
   ],
   "source": [
    "model_unskewed = ExtraTreesClassifier(random_state=25)\n",
    "model_unskewed.fit(train_X_unskewed, train_y_unskewed)"
   ]
  },
  {
   "cell_type": "code",
   "execution_count": 20,
   "metadata": {},
   "outputs": [
    {
     "data": {
      "text/plain": [
       "0.5764023210831721"
      ]
     },
     "execution_count": 20,
     "metadata": {},
     "output_type": "execute_result"
    }
   ],
   "source": [
    "predictions_unskewed = model_unskewed.predict(test_X_unskewed)\n",
    "acc_metrics_unskewed = accuracy_score(test_y_unskewed, predictions_unskewed)\n",
    "acc_metrics_unskewed"
   ]
  },
  {
   "cell_type": "markdown",
   "metadata": {},
   "source": [
    "The result is close to the 58% earlier achieved. With this result let us try the pipeline list experiment to find if another model can perform better."
   ]
  },
  {
   "cell_type": "code",
   "execution_count": 21,
   "metadata": {},
   "outputs": [
    {
     "name": "stdout",
     "output_type": "stream",
     "text": [
      "[14:07:31] WARNING: ../src/learner.cc:1115: Starting in XGBoost 1.3.0, the default evaluation metric used with the objective 'multi:softprob' was changed from 'merror' to 'mlogloss'. Explicitly set eval_metric if you'd like to restore the old behavior.\n",
      "[14:07:33] WARNING: ../src/learner.cc:1115: Starting in XGBoost 1.3.0, the default evaluation metric used with the objective 'multi:softprob' was changed from 'merror' to 'mlogloss'. Explicitly set eval_metric if you'd like to restore the old behavior.\n",
      "[14:07:34] WARNING: ../src/learner.cc:1115: Starting in XGBoost 1.3.0, the default evaluation metric used with the objective 'multi:softprob' was changed from 'merror' to 'mlogloss'. Explicitly set eval_metric if you'd like to restore the old behavior.\n",
      "[14:07:35] WARNING: ../src/learner.cc:1115: Starting in XGBoost 1.3.0, the default evaluation metric used with the objective 'multi:softprob' was changed from 'merror' to 'mlogloss'. Explicitly set eval_metric if you'd like to restore the old behavior.\n"
     ]
    },
    {
     "data": {
      "text/html": [
       "<div>\n",
       "<style scoped>\n",
       "    .dataframe tbody tr th:only-of-type {\n",
       "        vertical-align: middle;\n",
       "    }\n",
       "\n",
       "    .dataframe tbody tr th {\n",
       "        vertical-align: top;\n",
       "    }\n",
       "\n",
       "    .dataframe thead th {\n",
       "        text-align: right;\n",
       "    }\n",
       "</style>\n",
       "<table border=\"1\" class=\"dataframe\">\n",
       "  <thead>\n",
       "    <tr style=\"text-align: right;\">\n",
       "      <th></th>\n",
       "      <th>models</th>\n",
       "      <th>transformers</th>\n",
       "      <th>accuracy</th>\n",
       "    </tr>\n",
       "  </thead>\n",
       "  <tbody>\n",
       "    <tr>\n",
       "      <th>0</th>\n",
       "      <td>LogisticRegression()</td>\n",
       "      <td>Normalizer()</td>\n",
       "      <td>0.33</td>\n",
       "    </tr>\n",
       "    <tr>\n",
       "      <th>1</th>\n",
       "      <td>LogisticRegression()</td>\n",
       "      <td>MinMaxScaler()</td>\n",
       "      <td>0.40</td>\n",
       "    </tr>\n",
       "    <tr>\n",
       "      <th>2</th>\n",
       "      <td>LogisticRegression()</td>\n",
       "      <td>StandardScaler()</td>\n",
       "      <td>0.51</td>\n",
       "    </tr>\n",
       "    <tr>\n",
       "      <th>3</th>\n",
       "      <td>LogisticRegression()</td>\n",
       "      <td>PowerTransformer()</td>\n",
       "      <td>0.51</td>\n",
       "    </tr>\n",
       "    <tr>\n",
       "      <th>4</th>\n",
       "      <td>(ExtraTreeClassifier(random_state=1804817685),...</td>\n",
       "      <td>Normalizer()</td>\n",
       "      <td>0.51</td>\n",
       "    </tr>\n",
       "    <tr>\n",
       "      <th>5</th>\n",
       "      <td>(ExtraTreeClassifier(random_state=1804817685),...</td>\n",
       "      <td>MinMaxScaler()</td>\n",
       "      <td>0.57</td>\n",
       "    </tr>\n",
       "    <tr>\n",
       "      <th>6</th>\n",
       "      <td>(ExtraTreeClassifier(random_state=1804817685),...</td>\n",
       "      <td>StandardScaler()</td>\n",
       "      <td>0.56</td>\n",
       "    </tr>\n",
       "    <tr>\n",
       "      <th>7</th>\n",
       "      <td>(ExtraTreeClassifier(random_state=1804817685),...</td>\n",
       "      <td>PowerTransformer()</td>\n",
       "      <td>0.57</td>\n",
       "    </tr>\n",
       "    <tr>\n",
       "      <th>8</th>\n",
       "      <td>XGBClassifier(base_score=0.5, booster='gbtree'...</td>\n",
       "      <td>Normalizer()</td>\n",
       "      <td>0.51</td>\n",
       "    </tr>\n",
       "    <tr>\n",
       "      <th>9</th>\n",
       "      <td>XGBClassifier(base_score=0.5, booster='gbtree'...</td>\n",
       "      <td>MinMaxScaler()</td>\n",
       "      <td>0.52</td>\n",
       "    </tr>\n",
       "    <tr>\n",
       "      <th>10</th>\n",
       "      <td>XGBClassifier(base_score=0.5, booster='gbtree'...</td>\n",
       "      <td>StandardScaler()</td>\n",
       "      <td>0.52</td>\n",
       "    </tr>\n",
       "    <tr>\n",
       "      <th>11</th>\n",
       "      <td>XGBClassifier(base_score=0.5, booster='gbtree'...</td>\n",
       "      <td>PowerTransformer()</td>\n",
       "      <td>0.52</td>\n",
       "    </tr>\n",
       "    <tr>\n",
       "      <th>12</th>\n",
       "      <td>DecisionTreeClassifier()</td>\n",
       "      <td>Normalizer()</td>\n",
       "      <td>0.46</td>\n",
       "    </tr>\n",
       "    <tr>\n",
       "      <th>13</th>\n",
       "      <td>DecisionTreeClassifier()</td>\n",
       "      <td>MinMaxScaler()</td>\n",
       "      <td>0.47</td>\n",
       "    </tr>\n",
       "    <tr>\n",
       "      <th>14</th>\n",
       "      <td>DecisionTreeClassifier()</td>\n",
       "      <td>StandardScaler()</td>\n",
       "      <td>0.47</td>\n",
       "    </tr>\n",
       "    <tr>\n",
       "      <th>15</th>\n",
       "      <td>DecisionTreeClassifier()</td>\n",
       "      <td>PowerTransformer()</td>\n",
       "      <td>0.45</td>\n",
       "    </tr>\n",
       "  </tbody>\n",
       "</table>\n",
       "</div>"
      ],
      "text/plain": [
       "                                               models        transformers  \\\n",
       "0                                LogisticRegression()        Normalizer()   \n",
       "1                                LogisticRegression()      MinMaxScaler()   \n",
       "2                                LogisticRegression()    StandardScaler()   \n",
       "3                                LogisticRegression()  PowerTransformer()   \n",
       "4   (ExtraTreeClassifier(random_state=1804817685),...        Normalizer()   \n",
       "5   (ExtraTreeClassifier(random_state=1804817685),...      MinMaxScaler()   \n",
       "6   (ExtraTreeClassifier(random_state=1804817685),...    StandardScaler()   \n",
       "7   (ExtraTreeClassifier(random_state=1804817685),...  PowerTransformer()   \n",
       "8   XGBClassifier(base_score=0.5, booster='gbtree'...        Normalizer()   \n",
       "9   XGBClassifier(base_score=0.5, booster='gbtree'...      MinMaxScaler()   \n",
       "10  XGBClassifier(base_score=0.5, booster='gbtree'...    StandardScaler()   \n",
       "11  XGBClassifier(base_score=0.5, booster='gbtree'...  PowerTransformer()   \n",
       "12                           DecisionTreeClassifier()        Normalizer()   \n",
       "13                           DecisionTreeClassifier()      MinMaxScaler()   \n",
       "14                           DecisionTreeClassifier()    StandardScaler()   \n",
       "15                           DecisionTreeClassifier()  PowerTransformer()   \n",
       "\n",
       "    accuracy  \n",
       "0       0.33  \n",
       "1       0.40  \n",
       "2       0.51  \n",
       "3       0.51  \n",
       "4       0.51  \n",
       "5       0.57  \n",
       "6       0.56  \n",
       "7       0.57  \n",
       "8       0.51  \n",
       "9       0.52  \n",
       "10      0.52  \n",
       "11      0.52  \n",
       "12      0.46  \n",
       "13      0.47  \n",
       "14      0.47  \n",
       "15      0.45  "
      ]
     },
     "execution_count": 21,
     "metadata": {},
     "output_type": "execute_result"
    }
   ],
   "source": [
    "results_unskewed = evaluate_model(config.MODELS, config.PREPROCESSORS, train_X_unskewed, train_y_unskewed, test_X_unskewed, test_y_unskewed)\n",
    "results_unskewed"
   ]
  },
  {
   "cell_type": "markdown",
   "metadata": {},
   "source": [
    "There was no other model that outperformed the earlier result. Training a model directly outside the pipeline list still did not improve the result."
   ]
  },
  {
   "cell_type": "code",
   "execution_count": 22,
   "metadata": {},
   "outputs": [
    {
     "data": {
      "text/plain": [
       "ExtraTreesClassifier(random_state=16)"
      ]
     },
     "execution_count": 22,
     "metadata": {},
     "output_type": "execute_result"
    }
   ],
   "source": [
    "scaled_train_X = StandardScaler().fit_transform(train_X_unskewed)\n",
    "model_unskewed = ExtraTreesClassifier(random_state=1719673464)\n",
    "model.fit(scaled_train_X, train_y_unskewed)"
   ]
  },
  {
   "cell_type": "code",
   "execution_count": 23,
   "metadata": {},
   "outputs": [
    {
     "data": {
      "text/plain": [
       "0.5009671179883946"
      ]
     },
     "execution_count": 23,
     "metadata": {},
     "output_type": "execute_result"
    }
   ],
   "source": [
    "scaled_test_X = StandardScaler().fit_transform(test_X_unskewed)\n",
    "predictions_stan_unskewed = model.predict(scaled_test_X)\n",
    "acc_metrics_stan_unskewed = accuracy_score(test_y_unskewed, predictions_stan_unskewed)\n",
    "acc_metrics_stan_unskewed"
   ]
  },
  {
   "cell_type": "markdown",
   "metadata": {},
   "source": [
    "Without an improvement in the model performance with the preprocessors, we can drop the idea of using preprocessors to improve modell performance."
   ]
  },
  {
   "cell_type": "markdown",
   "metadata": {},
   "source": [
    "## 4.0 Save Model\n",
    "\n",
    "We use the ExtraTreeClassifier to train a model and saved it as a joblib file. "
   ]
  },
  {
   "cell_type": "code",
   "execution_count": 24,
   "metadata": {},
   "outputs": [
    {
     "data": {
      "text/plain": [
       "((2714, 11), (517, 11))"
      ]
     },
     "execution_count": 24,
     "metadata": {},
     "output_type": "execute_result"
    }
   ],
   "source": [
    "#first is to split the data into train and test\n",
    "model_train, model_test = utils.train_test_split_by_well(data, config.TRAIN_SIZE)\n",
    "model_train.shape, model_test.shape"
   ]
  },
  {
   "cell_type": "code",
   "execution_count": 25,
   "metadata": {},
   "outputs": [
    {
     "data": {
      "text/plain": [
       "((2714, 10), (2714,), (517, 10), (517,))"
      ]
     },
     "execution_count": 25,
     "metadata": {},
     "output_type": "execute_result"
    }
   ],
   "source": [
    "#separate the input variables from the target label in the train and test sets\n",
    "model_train_X = model_train.drop('Facies', axis = 1)\n",
    "model_train_y = model_train.Facies\n",
    "model_test_X = model_test.drop('Facies', axis = 1)\n",
    "model_test_y = model_test.Facies\n",
    "model_train_X.shape, model_train_y.shape, model_test_X.shape, model_test_y.shape"
   ]
  },
  {
   "cell_type": "code",
   "execution_count": 26,
   "metadata": {},
   "outputs": [],
   "source": [
    "#define a pipeline that can take the training inputs and the training labels, \n",
    "# drop the categorical features and fit the training data to the classifier\n",
    "model_pipeline = Pipeline(\n",
    "        [\n",
    "            ('drop_columns', config.DROP_COLUMNS),\n",
    "            ('clf', ExtraTreesClassifier(random_state=9000))\n",
    "        ]\n",
    "    )"
   ]
  },
  {
   "cell_type": "code",
   "execution_count": 27,
   "metadata": {},
   "outputs": [
    {
     "data": {
      "text/plain": [
       "Pipeline(steps=[('drop_columns',\n",
       "                 FunctionTransformer(func=<function drop_columns at 0x7f8e924b84c0>)),\n",
       "                ('clf', ExtraTreesClassifier(random_state=9000))])"
      ]
     },
     "execution_count": 27,
     "metadata": {},
     "output_type": "execute_result"
    }
   ],
   "source": [
    "model_pipeline.fit(model_train_X, model_train_y)"
   ]
  },
  {
   "cell_type": "code",
   "execution_count": 28,
   "metadata": {},
   "outputs": [
    {
     "data": {
      "text/plain": [
       "0.6"
      ]
     },
     "execution_count": 28,
     "metadata": {},
     "output_type": "execute_result"
    }
   ],
   "source": [
    "model_preds = model_pipeline.predict(model_test_X)\n",
    "model_acc_metrics = accuracy_score(model_test_y, model_preds)\n",
    "round(model_acc_metrics, 2)"
   ]
  },
  {
   "cell_type": "markdown",
   "metadata": {},
   "source": [
    "The model achieved a 60% model accuracy"
   ]
  },
  {
   "cell_type": "markdown",
   "metadata": {},
   "source": [
    "## 5.0 Model Evaluation\n",
    "\n",
    "Let's see some evaluation metrics of the ExtraTreeClassifier. "
   ]
  },
  {
   "cell_type": "code",
   "execution_count": 29,
   "metadata": {},
   "outputs": [
    {
     "data": {
      "image/png": "[encoded data removed]",
      "text/plain": [
       "<Figure size 720x504 with 2 Axes>"
      ]
     },
     "metadata": {},
     "output_type": "display_data"
    }
   ],
   "source": [
    "#confusion matrix plot\n",
    "target = ['1','2','3','4','5','6','7','8','9']\n",
    "data = confusion_matrix(model_test_y, model_preds)\n",
    "df_cm = pd.DataFrame(data, columns=target, index = target)\n",
    "df_cm.index.name = 'Actual class'\n",
    "df_cm.columns.name = 'Predicted class'\n",
    "sns.set(font_scale=1.4)\n",
    "fig, ax = plt.subplots(figsize=(10,7))\n",
    "plt.title('Confusion Matrix for ExtraTreeClassifier Model', fontsize=20, fontweight='bold')\n",
    "sns.heatmap(df_cm, cmap='Blues', linewidths=1, annot=True, ax=ax, fmt='g')\n",
    "plt.savefig('Confusion Matrix for ExtraTreeClassifier Model')\n",
    "plt.show\n",
    "sns.set()"
   ]
  },
  {
   "cell_type": "code",
   "execution_count": 30,
   "metadata": {},
   "outputs": [
    {
     "name": "stdout",
     "output_type": "stream",
     "text": [
      "              precision    recall  f1-score   support\n",
      "\n",
      "           1       0.60      0.13      0.22        89\n",
      "           2       0.39      0.80      0.52        89\n",
      "           3       0.85      0.68      0.75       117\n",
      "           4       0.11      0.14      0.12         7\n",
      "           5       0.38      0.16      0.22        19\n",
      "           6       0.67      0.69      0.68        71\n",
      "           7       0.69      0.53      0.60        17\n",
      "           8       0.44      0.62      0.52        40\n",
      "           9       0.98      0.87      0.92        68\n",
      "\n",
      "    accuracy                           0.60       517\n",
      "   macro avg       0.57      0.51      0.51       517\n",
      "weighted avg       0.66      0.60      0.58       517\n",
      "\n"
     ]
    }
   ],
   "source": [
    "model_report = classification_report(model_test_y, model_preds, target_names=target)\n",
    "print(model_report)"
   ]
  },
  {
   "cell_type": "markdown",
   "metadata": {},
   "source": [
    "There are some points we can pick from looking closely at these evaluation metrics. \n",
    "- One is the apparent size of some of the classes in the dataset. Specifically classes 4, 5 and 7. \n",
    "- Another is the misclassifications we see in the cconfusion matrix. This can also be linked to the size of individual classes in the dataset. The misclassifications are more noticeable in the classes with fewer occurrences."
   ]
  },
  {
   "cell_type": "code",
   "execution_count": 31,
   "metadata": {},
   "outputs": [
    {
     "data": {
      "text/plain": [
       "['facies_classification_model.joblib']"
      ]
     },
     "execution_count": 31,
     "metadata": {},
     "output_type": "execute_result"
    }
   ],
   "source": [
    "#save the model in a .joblib file\n",
    "filename = 'facies_classification_model.joblib'\n",
    "joblib.dump(model_pipeline, filename)"
   ]
  },
  {
   "cell_type": "markdown",
   "metadata": {},
   "source": [
    "## 6.0 Visualising Predictions\n",
    "\n",
    "Let's take our test well to trial the saved model. We will use the function that plots the logs and the facies of a well, add some functionalities to it and be able to represent the predictions in a plot.\n",
    "\n",
    "The function for plotting the predictions takes the data (without labels of course) and first make predictions based on the data. The predicted labels are joined to the data and plotted as shown in the plot we have below."
   ]
  },
  {
   "cell_type": "code",
   "execution_count": 32,
   "metadata": {},
   "outputs": [],
   "source": [
    "test_well_input_data = test_well_data.drop('Facies', axis = 1)"
   ]
  },
  {
   "cell_type": "code",
   "execution_count": 33,
   "metadata": {},
   "outputs": [
    {
     "data": {
      "image/png": "[encoded data removed]",
      "text/plain": [
       "<Figure size 576x864 with 7 Axes>"
      ]
     },
     "metadata": {},
     "output_type": "display_data"
    }
   ],
   "source": [
    "utils.plot_predictions(test_well_input_data, 'facies_classification_model.joblib')"
   ]
  },
  {
   "cell_type": "markdown",
   "metadata": {},
   "source": [
    "This plot will be used in the deployed app as its output when it receives the logs of a well corresponding to the training data of the model as its input."
   ]
  },
  {
   "cell_type": "markdown",
   "metadata": {},
   "source": [
    "## 7.0 Dashboard"
   ]
  },
  {
   "cell_type": "markdown",
   "metadata": {},
   "source": [
    "Let's create a csv file from the test_well dataframe that will be used to trial our dashboard."
   ]
  },
  {
   "cell_type": "code",
   "execution_count": 36,
   "metadata": {},
   "outputs": [],
   "source": [
    "test_well_data = test_well_data.drop('Facies', axis = 1)\n",
    "model = joblib.load('facies_classification_model.joblib')\n",
    "test_well_predictions = model.predict(test_well_data)\n",
    "test_well_data['Facies'] = test_well_predictions\n",
    "\n",
    "test_well_csv = test_well_data.to_csv('test_well.csv', index = False)"
   ]
  },
  {
   "cell_type": "code",
   "execution_count": 38,
   "metadata": {},
   "outputs": [],
   "source": [
    "app_test_well = test_well_data.drop('Facies', axis = 1)\n",
    "app_test_well_csv = app_test_well.to_csv('app_test_well.csv', index = False)"
   ]
  },
  {
   "cell_type": "code",
   "execution_count": 37,
   "metadata": {},
   "outputs": [
    {
     "data": {
      "text/html": [
       "<div>\n",
       "<style scoped>\n",
       "    .dataframe tbody tr th:only-of-type {\n",
       "        vertical-align: middle;\n",
       "    }\n",
       "\n",
       "    .dataframe tbody tr th {\n",
       "        vertical-align: top;\n",
       "    }\n",
       "\n",
       "    .dataframe thead th {\n",
       "        text-align: right;\n",
       "    }\n",
       "</style>\n",
       "<table border=\"1\" class=\"dataframe\">\n",
       "  <thead>\n",
       "    <tr style=\"text-align: right;\">\n",
       "      <th></th>\n",
       "      <th>Formation</th>\n",
       "      <th>Well Name</th>\n",
       "      <th>Depth</th>\n",
       "      <th>GR</th>\n",
       "      <th>ILD_log10</th>\n",
       "      <th>DeltaPHI</th>\n",
       "      <th>PHIND</th>\n",
       "      <th>PE</th>\n",
       "      <th>NM_M</th>\n",
       "      <th>RELPOS</th>\n",
       "      <th>Facies</th>\n",
       "    </tr>\n",
       "  </thead>\n",
       "  <tbody>\n",
       "    <tr>\n",
       "      <th>0</th>\n",
       "      <td>A1 SH</td>\n",
       "      <td>CHURCHMAN BIBLE</td>\n",
       "      <td>2917.5</td>\n",
       "      <td>63.500</td>\n",
       "      <td>0.705</td>\n",
       "      <td>4.916</td>\n",
       "      <td>12.174</td>\n",
       "      <td>3.162</td>\n",
       "      <td>1</td>\n",
       "      <td>1.000</td>\n",
       "      <td>3</td>\n",
       "    </tr>\n",
       "    <tr>\n",
       "      <th>1</th>\n",
       "      <td>A1 SH</td>\n",
       "      <td>CHURCHMAN BIBLE</td>\n",
       "      <td>2918.0</td>\n",
       "      <td>80.875</td>\n",
       "      <td>0.709</td>\n",
       "      <td>7.514</td>\n",
       "      <td>13.286</td>\n",
       "      <td>2.932</td>\n",
       "      <td>1</td>\n",
       "      <td>0.950</td>\n",
       "      <td>3</td>\n",
       "    </tr>\n",
       "    <tr>\n",
       "      <th>2</th>\n",
       "      <td>A1 SH</td>\n",
       "      <td>CHURCHMAN BIBLE</td>\n",
       "      <td>2918.5</td>\n",
       "      <td>87.813</td>\n",
       "      <td>0.700</td>\n",
       "      <td>7.785</td>\n",
       "      <td>13.212</td>\n",
       "      <td>2.953</td>\n",
       "      <td>1</td>\n",
       "      <td>0.900</td>\n",
       "      <td>3</td>\n",
       "    </tr>\n",
       "    <tr>\n",
       "      <th>3</th>\n",
       "      <td>A1 SH</td>\n",
       "      <td>CHURCHMAN BIBLE</td>\n",
       "      <td>2919.0</td>\n",
       "      <td>86.750</td>\n",
       "      <td>0.685</td>\n",
       "      <td>7.547</td>\n",
       "      <td>13.547</td>\n",
       "      <td>3.420</td>\n",
       "      <td>1</td>\n",
       "      <td>0.850</td>\n",
       "      <td>3</td>\n",
       "    </tr>\n",
       "    <tr>\n",
       "      <th>4</th>\n",
       "      <td>A1 SH</td>\n",
       "      <td>CHURCHMAN BIBLE</td>\n",
       "      <td>2919.5</td>\n",
       "      <td>79.438</td>\n",
       "      <td>0.669</td>\n",
       "      <td>5.912</td>\n",
       "      <td>12.252</td>\n",
       "      <td>3.324</td>\n",
       "      <td>1</td>\n",
       "      <td>0.800</td>\n",
       "      <td>3</td>\n",
       "    </tr>\n",
       "    <tr>\n",
       "      <th>...</th>\n",
       "      <td>...</td>\n",
       "      <td>...</td>\n",
       "      <td>...</td>\n",
       "      <td>...</td>\n",
       "      <td>...</td>\n",
       "      <td>...</td>\n",
       "      <td>...</td>\n",
       "      <td>...</td>\n",
       "      <td>...</td>\n",
       "      <td>...</td>\n",
       "      <td>...</td>\n",
       "    </tr>\n",
       "    <tr>\n",
       "      <th>399</th>\n",
       "      <td>C LM</td>\n",
       "      <td>CHURCHMAN BIBLE</td>\n",
       "      <td>3120.5</td>\n",
       "      <td>46.719</td>\n",
       "      <td>0.947</td>\n",
       "      <td>1.828</td>\n",
       "      <td>7.254</td>\n",
       "      <td>3.617</td>\n",
       "      <td>2</td>\n",
       "      <td>0.685</td>\n",
       "      <td>4</td>\n",
       "    </tr>\n",
       "    <tr>\n",
       "      <th>400</th>\n",
       "      <td>C LM</td>\n",
       "      <td>CHURCHMAN BIBLE</td>\n",
       "      <td>3121.0</td>\n",
       "      <td>44.563</td>\n",
       "      <td>0.953</td>\n",
       "      <td>2.241</td>\n",
       "      <td>8.013</td>\n",
       "      <td>3.344</td>\n",
       "      <td>2</td>\n",
       "      <td>0.677</td>\n",
       "      <td>4</td>\n",
       "    </tr>\n",
       "    <tr>\n",
       "      <th>401</th>\n",
       "      <td>C LM</td>\n",
       "      <td>CHURCHMAN BIBLE</td>\n",
       "      <td>3121.5</td>\n",
       "      <td>49.719</td>\n",
       "      <td>0.964</td>\n",
       "      <td>2.925</td>\n",
       "      <td>8.013</td>\n",
       "      <td>3.190</td>\n",
       "      <td>2</td>\n",
       "      <td>0.669</td>\n",
       "      <td>4</td>\n",
       "    </tr>\n",
       "    <tr>\n",
       "      <th>402</th>\n",
       "      <td>C LM</td>\n",
       "      <td>CHURCHMAN BIBLE</td>\n",
       "      <td>3122.0</td>\n",
       "      <td>51.469</td>\n",
       "      <td>0.965</td>\n",
       "      <td>3.083</td>\n",
       "      <td>7.708</td>\n",
       "      <td>3.152</td>\n",
       "      <td>2</td>\n",
       "      <td>0.661</td>\n",
       "      <td>4</td>\n",
       "    </tr>\n",
       "    <tr>\n",
       "      <th>403</th>\n",
       "      <td>C LM</td>\n",
       "      <td>CHURCHMAN BIBLE</td>\n",
       "      <td>3122.5</td>\n",
       "      <td>50.031</td>\n",
       "      <td>0.970</td>\n",
       "      <td>2.609</td>\n",
       "      <td>6.668</td>\n",
       "      <td>3.295</td>\n",
       "      <td>2</td>\n",
       "      <td>0.653</td>\n",
       "      <td>4</td>\n",
       "    </tr>\n",
       "  </tbody>\n",
       "</table>\n",
       "<p>404 rows × 11 columns</p>\n",
       "</div>"
      ],
      "text/plain": [
       "    Formation        Well Name   Depth      GR  ILD_log10  DeltaPHI   PHIND  \\\n",
       "0       A1 SH  CHURCHMAN BIBLE  2917.5  63.500      0.705     4.916  12.174   \n",
       "1       A1 SH  CHURCHMAN BIBLE  2918.0  80.875      0.709     7.514  13.286   \n",
       "2       A1 SH  CHURCHMAN BIBLE  2918.5  87.813      0.700     7.785  13.212   \n",
       "3       A1 SH  CHURCHMAN BIBLE  2919.0  86.750      0.685     7.547  13.547   \n",
       "4       A1 SH  CHURCHMAN BIBLE  2919.5  79.438      0.669     5.912  12.252   \n",
       "..        ...              ...     ...     ...        ...       ...     ...   \n",
       "399      C LM  CHURCHMAN BIBLE  3120.5  46.719      0.947     1.828   7.254   \n",
       "400      C LM  CHURCHMAN BIBLE  3121.0  44.563      0.953     2.241   8.013   \n",
       "401      C LM  CHURCHMAN BIBLE  3121.5  49.719      0.964     2.925   8.013   \n",
       "402      C LM  CHURCHMAN BIBLE  3122.0  51.469      0.965     3.083   7.708   \n",
       "403      C LM  CHURCHMAN BIBLE  3122.5  50.031      0.970     2.609   6.668   \n",
       "\n",
       "        PE  NM_M  RELPOS  Facies  \n",
       "0    3.162     1   1.000       3  \n",
       "1    2.932     1   0.950       3  \n",
       "2    2.953     1   0.900       3  \n",
       "3    3.420     1   0.850       3  \n",
       "4    3.324     1   0.800       3  \n",
       "..     ...   ...     ...     ...  \n",
       "399  3.617     2   0.685       4  \n",
       "400  3.344     2   0.677       4  \n",
       "401  3.190     2   0.669       4  \n",
       "402  3.152     2   0.661       4  \n",
       "403  3.295     2   0.653       4  \n",
       "\n",
       "[404 rows x 11 columns]"
      ]
     },
     "execution_count": 37,
     "metadata": {},
     "output_type": "execute_result"
    }
   ],
   "source": [
    "log_info = pd.read_csv('test_well.csv')\n",
    "logs = pd.DataFrame(log_info)\n",
    "logs"
   ]
  },
  {
   "cell_type": "code",
   "execution_count": 102,
   "metadata": {},
   "outputs": [
    {
     "data": {
      "text/html": [
       "<div>\n",
       "<style scoped>\n",
       "    .dataframe tbody tr th:only-of-type {\n",
       "        vertical-align: middle;\n",
       "    }\n",
       "\n",
       "    .dataframe tbody tr th {\n",
       "        vertical-align: top;\n",
       "    }\n",
       "\n",
       "    .dataframe thead th {\n",
       "        text-align: right;\n",
       "    }\n",
       "</style>\n",
       "<table border=\"1\" class=\"dataframe\">\n",
       "  <thead>\n",
       "    <tr style=\"text-align: right;\">\n",
       "      <th></th>\n",
       "      <th>Formation</th>\n",
       "      <th>Well Name</th>\n",
       "      <th>Depth</th>\n",
       "      <th>GR</th>\n",
       "      <th>ILD_log10</th>\n",
       "      <th>DeltaPHI</th>\n",
       "      <th>PHIND</th>\n",
       "      <th>PE</th>\n",
       "      <th>NM_M</th>\n",
       "      <th>RELPOS</th>\n",
       "      <th>Facies</th>\n",
       "    </tr>\n",
       "  </thead>\n",
       "  <tbody>\n",
       "    <tr>\n",
       "      <th>2827</th>\n",
       "      <td>A1 SH</td>\n",
       "      <td>CHURCHMAN BIBLE</td>\n",
       "      <td>2917.5</td>\n",
       "      <td>63.500</td>\n",
       "      <td>0.705</td>\n",
       "      <td>4.916</td>\n",
       "      <td>12.174</td>\n",
       "      <td>3.162</td>\n",
       "      <td>1</td>\n",
       "      <td>1.000</td>\n",
       "      <td>3</td>\n",
       "    </tr>\n",
       "    <tr>\n",
       "      <th>2828</th>\n",
       "      <td>A1 SH</td>\n",
       "      <td>CHURCHMAN BIBLE</td>\n",
       "      <td>2918.0</td>\n",
       "      <td>80.875</td>\n",
       "      <td>0.709</td>\n",
       "      <td>7.514</td>\n",
       "      <td>13.286</td>\n",
       "      <td>2.932</td>\n",
       "      <td>1</td>\n",
       "      <td>0.950</td>\n",
       "      <td>3</td>\n",
       "    </tr>\n",
       "    <tr>\n",
       "      <th>2829</th>\n",
       "      <td>A1 SH</td>\n",
       "      <td>CHURCHMAN BIBLE</td>\n",
       "      <td>2918.5</td>\n",
       "      <td>87.813</td>\n",
       "      <td>0.700</td>\n",
       "      <td>7.785</td>\n",
       "      <td>13.212</td>\n",
       "      <td>2.953</td>\n",
       "      <td>1</td>\n",
       "      <td>0.900</td>\n",
       "      <td>3</td>\n",
       "    </tr>\n",
       "    <tr>\n",
       "      <th>2830</th>\n",
       "      <td>A1 SH</td>\n",
       "      <td>CHURCHMAN BIBLE</td>\n",
       "      <td>2919.0</td>\n",
       "      <td>86.750</td>\n",
       "      <td>0.685</td>\n",
       "      <td>7.547</td>\n",
       "      <td>13.547</td>\n",
       "      <td>3.420</td>\n",
       "      <td>1</td>\n",
       "      <td>0.850</td>\n",
       "      <td>3</td>\n",
       "    </tr>\n",
       "    <tr>\n",
       "      <th>2831</th>\n",
       "      <td>A1 SH</td>\n",
       "      <td>CHURCHMAN BIBLE</td>\n",
       "      <td>2919.5</td>\n",
       "      <td>79.438</td>\n",
       "      <td>0.669</td>\n",
       "      <td>5.912</td>\n",
       "      <td>12.252</td>\n",
       "      <td>3.324</td>\n",
       "      <td>1</td>\n",
       "      <td>0.800</td>\n",
       "      <td>3</td>\n",
       "    </tr>\n",
       "    <tr>\n",
       "      <th>...</th>\n",
       "      <td>...</td>\n",
       "      <td>...</td>\n",
       "      <td>...</td>\n",
       "      <td>...</td>\n",
       "      <td>...</td>\n",
       "      <td>...</td>\n",
       "      <td>...</td>\n",
       "      <td>...</td>\n",
       "      <td>...</td>\n",
       "      <td>...</td>\n",
       "      <td>...</td>\n",
       "    </tr>\n",
       "    <tr>\n",
       "      <th>3226</th>\n",
       "      <td>C LM</td>\n",
       "      <td>CHURCHMAN BIBLE</td>\n",
       "      <td>3120.5</td>\n",
       "      <td>46.719</td>\n",
       "      <td>0.947</td>\n",
       "      <td>1.828</td>\n",
       "      <td>7.254</td>\n",
       "      <td>3.617</td>\n",
       "      <td>2</td>\n",
       "      <td>0.685</td>\n",
       "      <td>4</td>\n",
       "    </tr>\n",
       "    <tr>\n",
       "      <th>3227</th>\n",
       "      <td>C LM</td>\n",
       "      <td>CHURCHMAN BIBLE</td>\n",
       "      <td>3121.0</td>\n",
       "      <td>44.563</td>\n",
       "      <td>0.953</td>\n",
       "      <td>2.241</td>\n",
       "      <td>8.013</td>\n",
       "      <td>3.344</td>\n",
       "      <td>2</td>\n",
       "      <td>0.677</td>\n",
       "      <td>4</td>\n",
       "    </tr>\n",
       "    <tr>\n",
       "      <th>3228</th>\n",
       "      <td>C LM</td>\n",
       "      <td>CHURCHMAN BIBLE</td>\n",
       "      <td>3121.5</td>\n",
       "      <td>49.719</td>\n",
       "      <td>0.964</td>\n",
       "      <td>2.925</td>\n",
       "      <td>8.013</td>\n",
       "      <td>3.190</td>\n",
       "      <td>2</td>\n",
       "      <td>0.669</td>\n",
       "      <td>4</td>\n",
       "    </tr>\n",
       "    <tr>\n",
       "      <th>3229</th>\n",
       "      <td>C LM</td>\n",
       "      <td>CHURCHMAN BIBLE</td>\n",
       "      <td>3122.0</td>\n",
       "      <td>51.469</td>\n",
       "      <td>0.965</td>\n",
       "      <td>3.083</td>\n",
       "      <td>7.708</td>\n",
       "      <td>3.152</td>\n",
       "      <td>2</td>\n",
       "      <td>0.661</td>\n",
       "      <td>4</td>\n",
       "    </tr>\n",
       "    <tr>\n",
       "      <th>3230</th>\n",
       "      <td>C LM</td>\n",
       "      <td>CHURCHMAN BIBLE</td>\n",
       "      <td>3122.5</td>\n",
       "      <td>50.031</td>\n",
       "      <td>0.970</td>\n",
       "      <td>2.609</td>\n",
       "      <td>6.668</td>\n",
       "      <td>3.295</td>\n",
       "      <td>2</td>\n",
       "      <td>0.653</td>\n",
       "      <td>4</td>\n",
       "    </tr>\n",
       "  </tbody>\n",
       "</table>\n",
       "<p>404 rows × 11 columns</p>\n",
       "</div>"
      ],
      "text/plain": [
       "     Formation        Well Name   Depth      GR  ILD_log10  DeltaPHI   PHIND  \\\n",
       "2827     A1 SH  CHURCHMAN BIBLE  2917.5  63.500      0.705     4.916  12.174   \n",
       "2828     A1 SH  CHURCHMAN BIBLE  2918.0  80.875      0.709     7.514  13.286   \n",
       "2829     A1 SH  CHURCHMAN BIBLE  2918.5  87.813      0.700     7.785  13.212   \n",
       "2830     A1 SH  CHURCHMAN BIBLE  2919.0  86.750      0.685     7.547  13.547   \n",
       "2831     A1 SH  CHURCHMAN BIBLE  2919.5  79.438      0.669     5.912  12.252   \n",
       "...        ...              ...     ...     ...        ...       ...     ...   \n",
       "3226      C LM  CHURCHMAN BIBLE  3120.5  46.719      0.947     1.828   7.254   \n",
       "3227      C LM  CHURCHMAN BIBLE  3121.0  44.563      0.953     2.241   8.013   \n",
       "3228      C LM  CHURCHMAN BIBLE  3121.5  49.719      0.964     2.925   8.013   \n",
       "3229      C LM  CHURCHMAN BIBLE  3122.0  51.469      0.965     3.083   7.708   \n",
       "3230      C LM  CHURCHMAN BIBLE  3122.5  50.031      0.970     2.609   6.668   \n",
       "\n",
       "         PE  NM_M  RELPOS  Facies  \n",
       "2827  3.162     1   1.000       3  \n",
       "2828  2.932     1   0.950       3  \n",
       "2829  2.953     1   0.900       3  \n",
       "2830  3.420     1   0.850       3  \n",
       "2831  3.324     1   0.800       3  \n",
       "...     ...   ...     ...     ...  \n",
       "3226  3.617     2   0.685       4  \n",
       "3227  3.344     2   0.677       4  \n",
       "3228  3.190     2   0.669       4  \n",
       "3229  3.152     2   0.661       4  \n",
       "3230  3.295     2   0.653       4  \n",
       "\n",
       "[404 rows x 11 columns]"
      ]
     },
     "execution_count": 102,
     "metadata": {},
     "output_type": "execute_result"
    }
   ],
   "source": [
    "test_well_data"
   ]
  }
 ],
 "metadata": {
  "interpreter": {
   "hash": "b2d59ff6ef58088cea5e021485b976862a2f1d418bb2541dbb58a49bd758529e"
  },
  "kernelspec": {
   "display_name": "Python 3.9.12 ('facies')",
   "language": "python",
   "name": "python3"
  },
  "language_info": {
   "codemirror_mode": {
    "name": "ipython",
    "version": 3
   },
   "file_extension": ".py",
   "mimetype": "text/x-python",
   "name": "python",
   "nbconvert_exporter": "python",
   "pygments_lexer": "ipython3",
   "version": "3.9.12"
  },
  "orig_nbformat": 4
 },
 "nbformat": 4,
 "nbformat_minor": 2
}
